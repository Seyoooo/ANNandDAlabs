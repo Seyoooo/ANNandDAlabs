{
 "cells": [
  {
   "cell_type": "code",
   "execution_count": 3,
   "metadata": {},
   "outputs": [],
   "source": [
    "from math import * \n",
    "import numpy as np"
   ]
  },
  {
   "cell_type": "code",
   "execution_count": 30,
   "metadata": {},
   "outputs": [],
   "source": [
    "def gaussian(x, w, sigma):\n",
    "    return exp(-(x - w)**2/(2*sigma**2))\n",
    "\n",
    "def square(x):\n",
    "    if (x % 2*pi) < pi:\n",
    "        return 1\n",
    "    else:\n",
    "        return -1\n",
    "\n",
    "class RBF:\n",
    "    def __init__(self, input_dim, sigma=1):\n",
    "        self.w = np.random.randn(input_dim)\n",
    "        self.sigma = sigma\n",
    "    \n",
    "    def set_node(self, w, sigma):\n",
    "        self.w = w\n",
    "        self.sigma = sigma\n",
    "\n",
    "    def forward(self, X):\n",
    "        return np.array([gaussian(x, self.w, self.sigma) for x in X])\n",
    "\n",
    "class RBFnetwork:\n",
    "    def __init__(self, input_dim, nb_nodes, learning_rate):\n",
    "        self.learning_rate = learning_rate\n",
    "        self.rbfnodes = [RBF(input_dim) for _ in range(nb_nodes)]\n",
    "        self.output_weights = np.random.randn(nb_nodes)\n",
    "    \n",
    "    def set_rbf_node(self, index, w, sigma):\n",
    "        self.rbfnodes[index].set_node(w, sigma)\n",
    "\n",
    "    def forward(self, x):\n",
    "        out = 0\n",
    "        for i, node in enumerate(self.rbfnodes):\n",
    "            out += self.output_weights[i] * node.forward(x)\n",
    "        return out\n",
    "\n",
    "    def total_error(self, X, f):\n",
    "        out = self.forward(X)\n",
    "        return ((out - f)**2).sum()\n",
    "\n",
    "    def least_square_error_function(self):\n",
    "        pass"
   ]
  },
  {
   "cell_type": "code",
   "execution_count": 31,
   "metadata": {},
   "outputs": [],
   "source": [
    "sin_fun = np.vectorize(sin)\n",
    "square_fun = np.vectorize(square)\n",
    "\n",
    "x_train = np.arange(0, 2*pi, 0.1)\n",
    "x_test = np.arange(0.05, 2*pi, 0.1)\n",
    "\n",
    "training_sin = sin_fun(2 * x_train)\n",
    "training_square = square_fun(2 * x_train)"
   ]
  },
  {
   "cell_type": "markdown",
   "metadata": {},
   "source": [
    "### 3.1 Batch mode training using least squares - supervised learning of network weights"
   ]
  },
  {
   "cell_type": "code",
   "execution_count": 33,
   "metadata": {},
   "outputs": [
    {
     "data": {
      "text/plain": [
       "412.60197384535786"
      ]
     },
     "execution_count": 33,
     "metadata": {},
     "output_type": "execute_result"
    }
   ],
   "source": [
    "lr = 0.01\n",
    "epochs = 100\n",
    "nb_nodes = 10\n",
    "sigma = 1\n",
    "\n",
    "network = RBFnetwork(1, nb_nodes, lr)\n",
    "\n",
    "# Place by hand the rbf nodes\n",
    "# A good first approach is to divide the interval uniformally\n",
    "# And use a fixed sigma\n",
    "for i in range(nb_nodes):\n",
    "    w = np.array(2*i*pi/nb_nodes)\n",
    "    network.set_rbf_node(i, w, sigma)\n",
    "# Another good idea is to put more values at defining points of the curve\n",
    "\n"
   ]
  },
  {
   "cell_type": "code",
   "execution_count": null,
   "metadata": {},
   "outputs": [],
   "source": []
  }
 ],
 "metadata": {
  "kernelspec": {
   "display_name": "Python 3.8.3 ('venv': venv)",
   "language": "python",
   "name": "python3"
  },
  "language_info": {
   "codemirror_mode": {
    "name": "ipython",
    "version": 3
   },
   "file_extension": ".py",
   "mimetype": "text/x-python",
   "name": "python",
   "nbconvert_exporter": "python",
   "pygments_lexer": "ipython3",
   "version": "3.8.3"
  },
  "orig_nbformat": 4,
  "vscode": {
   "interpreter": {
    "hash": "ed010600908602893e54c2254557a102f13966df447e3060692476b3d496eb5f"
   }
  }
 },
 "nbformat": 4,
 "nbformat_minor": 2
}
