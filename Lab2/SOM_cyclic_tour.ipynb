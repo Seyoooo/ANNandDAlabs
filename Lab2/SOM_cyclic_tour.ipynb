{
 "cells": [
  {
   "cell_type": "markdown",
   "metadata": {},
   "source": [
    "# Self Organizing Maps - SOM\n",
    "## The Cyclic Tour"
   ]
  },
  {
   "cell_type": "code",
   "execution_count": 1,
   "metadata": {},
   "outputs": [],
   "source": [
    "import numpy as np"
   ]
  },
  {
   "cell_type": "code",
   "execution_count": 2,
   "metadata": {},
   "outputs": [
    {
     "data": {
      "text/plain": [
       "array([[0.4   , 0.4439],\n",
       "       [0.2439, 0.1463],\n",
       "       [0.1707, 0.2293],\n",
       "       [0.2293, 0.761 ],\n",
       "       [0.5171, 0.9414],\n",
       "       [0.8732, 0.6536],\n",
       "       [0.6878, 0.5219],\n",
       "       [0.8488, 0.3609],\n",
       "       [0.6683, 0.2536],\n",
       "       [0.6195, 0.2634]])"
      ]
     },
     "execution_count": 2,
     "metadata": {},
     "output_type": "execute_result"
    }
   ],
   "source": [
    "data = np.array(\n",
    "    [0.4000, 0.4439,\n",
    "    0.2439, 0.1463,\n",
    "    0.1707, 0.2293,\n",
    "0.2293, 0.7610,\n",
    "0.5171, 0.9414,\n",
    "0.8732, 0.6536,\n",
    "0.6878, 0.5219,\n",
    "0.8488, 0.3609,\n",
    "0.6683, 0.2536,\n",
    "0.6195, 0.2634]\n",
    ")\n",
    "\n",
    "data = data.reshape((10,2))\n",
    "data"
   ]
  },
  {
   "cell_type": "markdown",
   "metadata": {},
   "source": [
    "### Algorithm: for each sample\n",
    "1. Calculate the similarity between the input pattern and the weights arriving\n",
    "at each output node.\n",
    "2. Find the most similar node; often referred to as the winner.\n",
    "3. Select a set of output nodes which are located close to the winner in the\n",
    "output grid. This is called the neighbourhood.\n",
    "4. Update the weights of all nodes in the neighbourhood such that their\n",
    "weights are moved closer to the input pattern."
   ]
  },
  {
   "cell_type": "markdown",
   "metadata": {},
   "source": [
    "--------------"
   ]
  },
  {
   "cell_type": "code",
   "execution_count": 3,
   "metadata": {},
   "outputs": [],
   "source": [
    "import math\n",
    "\n",
    "class SOM:\n",
    "    def __init__(self, output_shape, data_dimensionality, step_size, neighborhood_size):\n",
    "        self.output_shape = output_shape\n",
    "        self.weight_matrix = np.random.random((output_shape, data_dimensionality))\n",
    "        # self.weight_matrix = np.ones((output_shape, data_dimensionality))\n",
    "        self.step_size = step_size\n",
    "        self.neighborhood_size = neighborhood_size\n",
    "\n",
    "    def find_winner(self, sample):\n",
    "        distances = []\n",
    "        for row in range(self.weight_matrix.shape[0]):\n",
    "            d = np.linalg.norm(sample - self.weight_matrix[row,:])\n",
    "            distances.append(d)\n",
    "            # print(\"{}: {}\".format(row, d))\n",
    "        \n",
    "        winner = np.argmin(np.array(distances))\n",
    "        # print(\"winner is: {}\".format(winner))\n",
    "        return winner\n",
    "\n",
    "    def get_neighborhood(self, winner):\n",
    "        neighborhood = []\n",
    "\n",
    "        for row in range(self.weight_matrix.shape[0]):\n",
    "            dabs = abs(winner - row)\n",
    "            if (dabs < self.output_shape/2):\n",
    "                d = dabs\n",
    "            elif (dabs > self.output_shape/2):\n",
    "                d = self.output_shape - dabs\n",
    "            else:\n",
    "                d = dabs\n",
    "            \n",
    "            if (d <= self.neighborhood_size):\n",
    "                # print(\"{} is neighbor\".format(row))\n",
    "                neighborhood.append(row)\n",
    "\n",
    "        return neighborhood\n",
    "    \n",
    "    def update_weights(self, neighborhood, sample):\n",
    "        for row in range(self.weight_matrix.shape[0]):\n",
    "            if row in neighborhood:\n",
    "                # print(\"{} is in neighbors\".format(row))\n",
    "                # print(\"old row{}: {}\".format(row, self.weight_matrix[row]))\n",
    "                new_row = self.weight_matrix[row] + (sample - self.weight_matrix[row]) * self.step_size\n",
    "                self.weight_matrix[row] = new_row\n",
    "                # print(\"new_row {}: {}\".format(row, new_row))\n",
    "\n",
    "    def fit(self, X, n_epochs):\n",
    "        t1 = 7\n",
    "        t2 = 14\n",
    "        t3 = 25\n",
    "        for e in range(n_epochs):\n",
    "            if (e == t1):\n",
    "                self.neighborhood_size += -1\n",
    "            if (e == t2):\n",
    "                self.neighborhood_size += -1\n",
    "            if (e == t3):\n",
    "                self.neighborhood_size += -1\n",
    "\n",
    "            print(\"{}: {}\".format(e, self.neighborhood_size))\n",
    "\n",
    "            for row in range(X.shape[0]):\n",
    "                winner = self.find_winner(X[row])\n",
    "                neighborhood = self.get_neighborhood(winner)\n",
    "\n",
    "                self.update_weights(neighborhood, X[row])"
   ]
  },
  {
   "cell_type": "code",
   "execution_count": 4,
   "metadata": {},
   "outputs": [],
   "source": [
    "som = SOM(10, 2, 0.2, 2)"
   ]
  },
  {
   "cell_type": "code",
   "execution_count": 5,
   "metadata": {},
   "outputs": [
    {
     "data": {
      "text/plain": [
       "array([[0.65727715, 0.91059087],\n",
       "       [0.1873722 , 0.31931749],\n",
       "       [0.21345197, 0.16342618],\n",
       "       [0.30502238, 0.74436407],\n",
       "       [0.22110477, 0.81540903],\n",
       "       [0.79068187, 0.90843906],\n",
       "       [0.54859855, 0.59997613],\n",
       "       [0.19054742, 0.15177944],\n",
       "       [0.19811363, 0.78456402],\n",
       "       [0.26113939, 0.27222407]])"
      ]
     },
     "execution_count": 5,
     "metadata": {},
     "output_type": "execute_result"
    }
   ],
   "source": [
    "som.weight_matrix"
   ]
  },
  {
   "cell_type": "markdown",
   "metadata": {},
   "source": [
    "Given a data point:"
   ]
  },
  {
   "cell_type": "code",
   "execution_count": 6,
   "metadata": {},
   "outputs": [
    {
     "data": {
      "text/plain": [
       "array([0.4   , 0.4439])"
      ]
     },
     "execution_count": 6,
     "metadata": {},
     "output_type": "execute_result"
    }
   ],
   "source": [
    "data[0]"
   ]
  },
  {
   "cell_type": "markdown",
   "metadata": {},
   "source": [
    "Compute the winning position:"
   ]
  },
  {
   "cell_type": "code",
   "execution_count": 7,
   "metadata": {},
   "outputs": [
    {
     "data": {
      "text/plain": [
       "6"
      ]
     },
     "execution_count": 7,
     "metadata": {},
     "output_type": "execute_result"
    }
   ],
   "source": [
    "w = som.find_winner(data[0])\n",
    "w"
   ]
  },
  {
   "cell_type": "markdown",
   "metadata": {},
   "source": [
    "Check the neighborhood:"
   ]
  },
  {
   "cell_type": "code",
   "execution_count": 8,
   "metadata": {},
   "outputs": [
    {
     "data": {
      "text/plain": [
       "[4, 5, 6, 7, 8]"
      ]
     },
     "execution_count": 8,
     "metadata": {},
     "output_type": "execute_result"
    }
   ],
   "source": [
    "n = som.get_neighborhood(w)\n",
    "n"
   ]
  },
  {
   "cell_type": "markdown",
   "metadata": {},
   "source": [
    "Apply updates to the neighbors:"
   ]
  },
  {
   "cell_type": "code",
   "execution_count": 9,
   "metadata": {},
   "outputs": [
    {
     "data": {
      "text/plain": [
       "array([[0.65727715, 0.91059087],\n",
       "       [0.1873722 , 0.31931749],\n",
       "       [0.21345197, 0.16342618],\n",
       "       [0.30502238, 0.74436407],\n",
       "       [0.25688381, 0.74110723],\n",
       "       [0.71254549, 0.81553125],\n",
       "       [0.51887884, 0.5687609 ],\n",
       "       [0.23243794, 0.21020355],\n",
       "       [0.2384909 , 0.71643122],\n",
       "       [0.26113939, 0.27222407]])"
      ]
     },
     "execution_count": 9,
     "metadata": {},
     "output_type": "execute_result"
    }
   ],
   "source": [
    "som.update_weights(n, data[0])\n",
    "som.weight_matrix"
   ]
  },
  {
   "cell_type": "markdown",
   "metadata": {},
   "source": [
    "#### We should be ready to fit"
   ]
  },
  {
   "cell_type": "code",
   "execution_count": 10,
   "metadata": {},
   "outputs": [
    {
     "name": "stdout",
     "output_type": "stream",
     "text": [
      "0: 2\n",
      "1: 2\n",
      "2: 2\n",
      "3: 2\n",
      "4: 2\n",
      "5: 2\n",
      "6: 2\n",
      "7: 1\n",
      "8: 1\n",
      "9: 1\n",
      "10: 1\n",
      "11: 1\n",
      "12: 1\n",
      "13: 1\n",
      "14: 0\n",
      "15: 0\n",
      "16: 0\n",
      "17: 0\n",
      "18: 0\n",
      "19: 0\n"
     ]
    }
   ],
   "source": [
    "som.fit(data, 20)"
   ]
  },
  {
   "cell_type": "code",
   "execution_count": 11,
   "metadata": {},
   "outputs": [],
   "source": [
    "winnrz = []\n",
    "\n",
    "for row in range(data.shape[0]):\n",
    "    winnrz.append( (row, som.find_winner(data[row])) )"
   ]
  },
  {
   "cell_type": "code",
   "execution_count": 12,
   "metadata": {},
   "outputs": [
    {
     "data": {
      "text/plain": [
       "[(1, 2),\n",
       " (2, 2),\n",
       " (0, 3),\n",
       " (3, 4),\n",
       " (4, 5),\n",
       " (5, 7),\n",
       " (6, 7),\n",
       " (7, 8),\n",
       " (8, 9),\n",
       " (9, 9)]"
      ]
     },
     "execution_count": 12,
     "metadata": {},
     "output_type": "execute_result"
    }
   ],
   "source": [
    "sorted_winnrz = sorted(winnrz, key=lambda x: x[1])\n",
    "sorted_winnrz"
   ]
  },
  {
   "cell_type": "code",
   "execution_count": 13,
   "metadata": {},
   "outputs": [
    {
     "data": {
      "text/plain": [
       "array([[0.53928043, 0.2307661 ],\n",
       "       [0.37436091, 0.22283318],\n",
       "       [0.20684231, 0.19702151],\n",
       "       [0.36199749, 0.45906938],\n",
       "       [0.27220531, 0.75831045],\n",
       "       [0.48940858, 0.91734048],\n",
       "       [0.71415491, 0.76122746],\n",
       "       [0.77236563, 0.57423934],\n",
       "       [0.82464327, 0.37368144],\n",
       "       [0.64483798, 0.26362687]])"
      ]
     },
     "execution_count": 13,
     "metadata": {},
     "output_type": "execute_result"
    }
   ],
   "source": [
    "som.weight_matrix"
   ]
  },
  {
   "cell_type": "code",
   "execution_count": 14,
   "metadata": {},
   "outputs": [
    {
     "data": {
      "image/png": "[encoded data removed]",
      "text/plain": [
       "<Figure size 640x480 with 1 Axes>"
      ]
     },
     "metadata": {},
     "output_type": "display_data"
    }
   ],
   "source": [
    "import matplotlib.pyplot as plt\n",
    "plt.title(\"Cyclic Tour\")\n",
    "plt.plot(som.weight_matrix[:,0], som.weight_matrix[:,1], c='r', label='Weights/Tour', marker='o')\n",
    "plt.scatter(data[:,0], data[:,1], c='b', label='Cities', marker='x')\n",
    "plt.grid(True)\n",
    "plt.legend()\n",
    "\n",
    "plt.show()"
   ]
  },
  {
   "cell_type": "markdown",
   "metadata": {},
   "source": [
    "https://diego.codes/post/som-tsp/"
   ]
  }
 ],
 "metadata": {
  "kernelspec": {
   "display_name": "AnndaKTH",
   "language": "python",
   "name": "python3"
  },
  "language_info": {
   "codemirror_mode": {
    "name": "ipython",
    "version": 3
   },
   "file_extension": ".py",
   "mimetype": "text/x-python",
   "name": "python",
   "nbconvert_exporter": "python",
   "pygments_lexer": "ipython3",
   "version": "3.11.4"
  },
  "orig_nbformat": 4
 },
 "nbformat": 4,
 "nbformat_minor": 2
}
