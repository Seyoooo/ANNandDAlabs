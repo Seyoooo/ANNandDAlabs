{
 "cells": [
  {
   "cell_type": "markdown",
   "metadata": {},
   "source": [
    "# Self Organizing Maps - SOM\n",
    "## The Cyclic Tour"
   ]
  },
  {
   "cell_type": "code",
   "execution_count": 16,
   "metadata": {},
   "outputs": [],
   "source": [
    "import numpy as np"
   ]
  },
  {
   "cell_type": "code",
   "execution_count": 17,
   "metadata": {},
   "outputs": [
    {
     "data": {
      "text/plain": [
       "array([[ 0.4   ,  0.4439],\n",
       "       [ 0.8439, -0.1463],\n",
       "       [-0.1707,  0.2293],\n",
       "       [ 0.2293,  0.761 ],\n",
       "       [ 1.5171,  0.9414],\n",
       "       [ 0.8732,  0.6536],\n",
       "       [ 0.6878,  0.5219],\n",
       "       [ 0.8488,  0.3609],\n",
       "       [ 0.3683, -0.2536],\n",
       "       [ 1.4195,  0.2634]])"
      ]
     },
     "execution_count": 17,
     "metadata": {},
     "output_type": "execute_result"
    }
   ],
   "source": [
    "data = np.array(\n",
    "    [0.4000, 0.4439,\n",
    "    0.8439, -0.1463,\n",
    "    -0.1707, 0.2293,\n",
    "    0.2293, 0.7610,\n",
    "    1.5171, 0.9414,\n",
    "    0.8732, 0.6536,\n",
    "    0.6878, 0.5219,\n",
    "    0.8488, 0.3609,\n",
    "    0.3683, -0.2536,\n",
    "    1.4195, 0.2634]\n",
    "    )\n",
    "\n",
    "data = data.reshape((10,2))\n",
    "data"
   ]
  },
  {
   "cell_type": "code",
   "execution_count": 18,
   "metadata": {},
   "outputs": [
    {
     "data": {
      "text/plain": [
       "<matplotlib.collections.PathCollection at 0x7f501d533450>"
      ]
     },
     "execution_count": 18,
     "metadata": {},
     "output_type": "execute_result"
    },
    {
     "data": {
      "image/png": "[encoded data removed]",
      "text/plain": [
       "<Figure size 640x480 with 1 Axes>"
      ]
     },
     "metadata": {},
     "output_type": "display_data"
    }
   ],
   "source": [
    "import matplotlib.pyplot as plt\n",
    "plt.scatter(data[:,0], data[:,1], c='b', label='Cities', marker='x')"
   ]
  },
  {
   "cell_type": "markdown",
   "metadata": {},
   "source": [
    "### Algorithm: for each sample\n",
    "1. Calculate the similarity between the input pattern and the weights arriving\n",
    "at each output node.\n",
    "2. Find the most similar node; often referred to as the winner.\n",
    "3. Select a set of output nodes which are located close to the winner in the\n",
    "output grid. This is called the neighbourhood.\n",
    "4. Update the weights of all nodes in the neighbourhood such that their\n",
    "weights are moved closer to the input pattern."
   ]
  },
  {
   "cell_type": "markdown",
   "metadata": {},
   "source": [
    "--------------"
   ]
  },
  {
   "cell_type": "code",
   "execution_count": 19,
   "metadata": {},
   "outputs": [],
   "source": [
    "import math\n",
    "\n",
    "class SOM:\n",
    "    def __init__(self, output_shape, data_dimensionality, step_size, neighborhood_size):\n",
    "        self.output_shape = output_shape\n",
    "        self.weight_matrix = np.random.random((output_shape, data_dimensionality))\n",
    "        # self.weight_matrix = np.ones((output_shape, data_dimensionality))\n",
    "        self.step_size = step_size\n",
    "        self.neighborhood_size = neighborhood_size\n",
    "\n",
    "    def find_winner(self, sample):\n",
    "        distances = []\n",
    "        for row in range(self.weight_matrix.shape[0]):\n",
    "            d = np.linalg.norm(sample - self.weight_matrix[row,:])\n",
    "            distances.append(d)\n",
    "            # print(\"{}: {}\".format(row, d))\n",
    "        \n",
    "        winner = np.argmin(np.array(distances))\n",
    "        # print(\"winner is: {}\".format(winner))\n",
    "        return winner\n",
    "\n",
    "    def get_neighborhood(self, winner):\n",
    "        neighborhood = []\n",
    "\n",
    "        for row in range(self.weight_matrix.shape[0]):\n",
    "            dabs = abs(winner - row)\n",
    "            if (dabs < self.output_shape/2):\n",
    "                d = dabs\n",
    "            elif (dabs > self.output_shape/2):\n",
    "                d = self.output_shape - dabs\n",
    "            else:\n",
    "                d = dabs\n",
    "            \n",
    "            if (d <= self.neighborhood_size):\n",
    "                # print(\"{} is neighbor\".format(row))\n",
    "                neighborhood.append(row)\n",
    "\n",
    "        return neighborhood\n",
    "    \n",
    "    def update_weights(self, neighborhood, sample):\n",
    "        for row in range(self.weight_matrix.shape[0]):\n",
    "            if row in neighborhood:\n",
    "                # print(\"{} is in neighbors\".format(row))\n",
    "                # print(\"old row{}: {}\".format(row, self.weight_matrix[row]))\n",
    "                new_row = self.weight_matrix[row] + (sample - self.weight_matrix[row]) * self.step_size\n",
    "                self.weight_matrix[row] = new_row\n",
    "                # print(\"new_row {}: {}\".format(row, new_row))\n",
    "\n",
    "    def fit(self, X, n_epochs):\n",
    "        t1 = 7\n",
    "        t2 = 14\n",
    "        t3 = 25\n",
    "        for e in range(n_epochs):\n",
    "            if (e == t1):\n",
    "                self.neighborhood_size += -1\n",
    "            if (e == t2):\n",
    "                self.neighborhood_size += -1\n",
    "            if (e == t3):\n",
    "                self.neighborhood_size += -1\n",
    "\n",
    "            print(\"{}: {}\".format(e, self.neighborhood_size))\n",
    "\n",
    "            for row in range(X.shape[0]):\n",
    "                winner = self.find_winner(X[row])\n",
    "                neighborhood = self.get_neighborhood(winner)\n",
    "\n",
    "                self.update_weights(neighborhood, X[row])"
   ]
  },
  {
   "cell_type": "code",
   "execution_count": 20,
   "metadata": {},
   "outputs": [],
   "source": [
    "som = SOM(10, 2, 0.2, 2)"
   ]
  },
  {
   "cell_type": "code",
   "execution_count": 21,
   "metadata": {},
   "outputs": [
    {
     "data": {
      "text/plain": [
       "array([[0.41874766, 0.81740474],\n",
       "       [0.42224025, 0.0560212 ],\n",
       "       [0.2047503 , 0.64327261],\n",
       "       [0.71932495, 0.2164057 ],\n",
       "       [0.63095582, 0.40103567],\n",
       "       [0.56931441, 0.56727127],\n",
       "       [0.81938988, 0.60279912],\n",
       "       [0.06195319, 0.09014814],\n",
       "       [0.06208601, 0.17614888],\n",
       "       [0.91981208, 0.68802999]])"
      ]
     },
     "execution_count": 21,
     "metadata": {},
     "output_type": "execute_result"
    }
   ],
   "source": [
    "som.weight_matrix"
   ]
  },
  {
   "cell_type": "markdown",
   "metadata": {},
   "source": [
    "Given a data point:"
   ]
  },
  {
   "cell_type": "code",
   "execution_count": 22,
   "metadata": {},
   "outputs": [
    {
     "data": {
      "text/plain": [
       "array([0.4   , 0.4439])"
      ]
     },
     "execution_count": 22,
     "metadata": {},
     "output_type": "execute_result"
    }
   ],
   "source": [
    "data[0]"
   ]
  },
  {
   "cell_type": "markdown",
   "metadata": {},
   "source": [
    "Compute the winning position:"
   ]
  },
  {
   "cell_type": "code",
   "execution_count": 23,
   "metadata": {},
   "outputs": [
    {
     "data": {
      "text/plain": [
       "5"
      ]
     },
     "execution_count": 23,
     "metadata": {},
     "output_type": "execute_result"
    }
   ],
   "source": [
    "w = som.find_winner(data[0])\n",
    "w"
   ]
  },
  {
   "cell_type": "markdown",
   "metadata": {},
   "source": [
    "Check the neighborhood:"
   ]
  },
  {
   "cell_type": "code",
   "execution_count": 24,
   "metadata": {},
   "outputs": [
    {
     "data": {
      "text/plain": [
       "[3, 4, 5, 6, 7]"
      ]
     },
     "execution_count": 24,
     "metadata": {},
     "output_type": "execute_result"
    }
   ],
   "source": [
    "n = som.get_neighborhood(w)\n",
    "n"
   ]
  },
  {
   "cell_type": "markdown",
   "metadata": {},
   "source": [
    "Apply updates to the neighbors:"
   ]
  },
  {
   "cell_type": "code",
   "execution_count": 25,
   "metadata": {},
   "outputs": [
    {
     "data": {
      "text/plain": [
       "array([[0.41874766, 0.81740474],\n",
       "       [0.42224025, 0.0560212 ],\n",
       "       [0.2047503 , 0.64327261],\n",
       "       [0.65545996, 0.26190456],\n",
       "       [0.58476465, 0.40960853],\n",
       "       [0.53545153, 0.54259702],\n",
       "       [0.73551191, 0.57101929],\n",
       "       [0.12956255, 0.16089851],\n",
       "       [0.06208601, 0.17614888],\n",
       "       [0.91981208, 0.68802999]])"
      ]
     },
     "execution_count": 25,
     "metadata": {},
     "output_type": "execute_result"
    }
   ],
   "source": [
    "som.update_weights(n, data[0])\n",
    "som.weight_matrix"
   ]
  },
  {
   "cell_type": "markdown",
   "metadata": {},
   "source": [
    "#### We should be ready to fit"
   ]
  },
  {
   "cell_type": "code",
   "execution_count": 26,
   "metadata": {},
   "outputs": [
    {
     "name": "stdout",
     "output_type": "stream",
     "text": [
      "0: 2\n",
      "1: 2\n",
      "2: 2\n",
      "3: 2\n",
      "4: 2\n",
      "5: 2\n",
      "6: 2\n",
      "7: 1\n",
      "8: 1\n",
      "9: 1\n",
      "10: 1\n",
      "11: 1\n",
      "12: 1\n",
      "13: 1\n",
      "14: 0\n",
      "15: 0\n",
      "16: 0\n",
      "17: 0\n",
      "18: 0\n",
      "19: 0\n"
     ]
    }
   ],
   "source": [
    "som.fit(data, 20)"
   ]
  },
  {
   "cell_type": "code",
   "execution_count": 27,
   "metadata": {},
   "outputs": [],
   "source": [
    "winnrz = []\n",
    "\n",
    "for row in range(data.shape[0]):\n",
    "    winnrz.append( (row, som.find_winner(data[row])) )"
   ]
  },
  {
   "cell_type": "code",
   "execution_count": 28,
   "metadata": {},
   "outputs": [
    {
     "data": {
      "text/plain": [
       "[(9, 0),\n",
       " (7, 1),\n",
       " (1, 2),\n",
       " (8, 3),\n",
       " (2, 4),\n",
       " (3, 5),\n",
       " (0, 6),\n",
       " (6, 7),\n",
       " (5, 8),\n",
       " (4, 9)]"
      ]
     },
     "execution_count": 28,
     "metadata": {},
     "output_type": "execute_result"
    }
   ],
   "source": [
    "sorted_winnrz = sorted(winnrz, key=lambda x: x[1])\n",
    "sorted_winnrz"
   ]
  },
  {
   "cell_type": "code",
   "execution_count": 29,
   "metadata": {},
   "outputs": [
    {
     "data": {
      "text/plain": [
       "array([[ 1.37683655,  0.31826249],\n",
       "       [ 0.90959243,  0.31560976],\n",
       "       [ 0.79384227, -0.11399047],\n",
       "       [ 0.35504515, -0.20446797],\n",
       "       [-0.09011123,  0.16151286],\n",
       "       [ 0.20713679,  0.69295868],\n",
       "       [ 0.41628857,  0.47944901],\n",
       "       [ 0.66187788,  0.54130901],\n",
       "       [ 0.89753203,  0.65894278],\n",
       "       [ 1.45080551,  0.8436025 ]])"
      ]
     },
     "execution_count": 29,
     "metadata": {},
     "output_type": "execute_result"
    }
   ],
   "source": [
    "som.weight_matrix"
   ]
  },
  {
   "cell_type": "code",
   "execution_count": 30,
   "metadata": {},
   "outputs": [
    {
     "data": {
      "image/png": "[encoded data removed]",
      "text/plain": [
       "<Figure size 640x480 with 1 Axes>"
      ]
     },
     "metadata": {},
     "output_type": "display_data"
    }
   ],
   "source": [
    "import matplotlib.pyplot as plt\n",
    "plt.title(\"Cyclic Tour\")\n",
    "plt.plot(som.weight_matrix[:,0], som.weight_matrix[:,1], c='r', label='Weights/Tour', marker='o')\n",
    "plt.scatter(data[:,0], data[:,1], c='b', label='Cities', marker='x')\n",
    "plt.grid(True)\n",
    "plt.legend()\n",
    "\n",
    "plt.show()"
   ]
  },
  {
   "cell_type": "markdown",
   "metadata": {},
   "source": [
    "https://diego.codes/post/som-tsp/"
   ]
  }
 ],
 "metadata": {
  "kernelspec": {
   "display_name": "AnndaKTH",
   "language": "python",
   "name": "python3"
  },
  "language_info": {
   "codemirror_mode": {
    "name": "ipython",
    "version": 3
   },
   "file_extension": ".py",
   "mimetype": "text/x-python",
   "name": "python",
   "nbconvert_exporter": "python",
   "pygments_lexer": "ipython3",
   "version": "3.11.4"
  },
  "orig_nbformat": 4
 },
 "nbformat": 4,
 "nbformat_minor": 2
}
