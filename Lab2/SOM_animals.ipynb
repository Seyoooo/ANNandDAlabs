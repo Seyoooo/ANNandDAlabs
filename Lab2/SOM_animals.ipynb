{
 "cells": [
  {
   "cell_type": "markdown",
   "metadata": {},
   "source": [
    "# Self-Organizing Maps - SOMs"
   ]
  },
  {
   "cell_type": "markdown",
   "metadata": {},
   "source": [
    "### Organizing animals"
   ]
  },
  {
   "cell_type": "code",
   "execution_count": 1,
   "metadata": {},
   "outputs": [],
   "source": [
    "import numpy as np"
   ]
  },
  {
   "cell_type": "code",
   "execution_count": 2,
   "metadata": {},
   "outputs": [
    {
     "data": {
      "text/plain": [
       "(32, 84)"
      ]
     },
     "execution_count": 2,
     "metadata": {},
     "output_type": "execute_result"
    }
   ],
   "source": [
    "data = np.genfromtxt('data_lab2/animals.dat',\n",
    "                     dtype=None,\n",
    "                     delimiter=',')\n",
    "data = data.reshape(32,84)\n",
    "data.shape"
   ]
  },
  {
   "cell_type": "code",
   "execution_count": 33,
   "metadata": {},
   "outputs": [
    {
     "data": {
      "text/plain": [
       "array([1, 0, 0, 0, 0, 0, 0, 1, 0, 0, 1, 0, 0, 0, 0, 0, 0, 0, 0, 0, 1, 0,\n",
       "       0, 0, 0, 0, 0, 0, 0, 0, 1, 0, 1, 0, 0, 0, 0, 1, 0, 0, 1, 1, 1, 1,\n",
       "       0, 0, 1, 1, 1, 0, 0, 0, 1, 1, 0, 0, 0, 0, 0, 0, 1, 1, 0, 0, 1, 0,\n",
       "       0, 0, 1, 0, 0, 0, 0, 0, 0, 1, 0, 0, 0, 0, 0, 0, 0, 0])"
      ]
     },
     "execution_count": 33,
     "metadata": {},
     "output_type": "execute_result"
    }
   ],
   "source": [
    "data[0]"
   ]
  },
  {
   "cell_type": "markdown",
   "metadata": {},
   "source": [
    "### Algorithm: for each sample\n",
    "1. Calculate the similarity between the input pattern and the weights arriving\n",
    "at each output node.\n",
    "2. Find the most similar node; often referred to as the winner.\n",
    "3. Select a set of output nodes which are located close to the winner in the\n",
    "output grid. This is called the neighbourhood.\n",
    "4. Update the weights of all nodes in the neighbourhood such that their\n",
    "weights are moved closer to the input pattern."
   ]
  },
  {
   "cell_type": "code",
   "execution_count": 34,
   "metadata": {},
   "outputs": [],
   "source": [
    "def descending_logarithmic(x, n):\n",
    "    A = 49\n",
    "    k = -np.log(0.03) / 16  # Calcola k in modo che y sia 1 quando x è 16\n",
    "    B = 0  # Per ottenere y = 1 quando x è 16\n",
    "    return A * np.exp(-k * x) + B"
   ]
  },
  {
   "cell_type": "code",
   "execution_count": 35,
   "metadata": {},
   "outputs": [],
   "source": [
    "def custom_sigmoid(x):\n",
    "    k = 4  # Puoi regolare k per controllare la pendenza\n",
    "    return 50 - (50 / (1 + np.exp(-k * (x - 15))))"
   ]
  },
  {
   "cell_type": "code",
   "execution_count": 36,
   "metadata": {},
   "outputs": [],
   "source": [
    "import math\n",
    "\n",
    "class SOM:\n",
    "    def __init__(self, output_shape, data_dimensionality, step_size, neighborhood_size):\n",
    "        self.output_shape = output_shape\n",
    "        self.weight_matrix = np.random.random((output_shape, data_dimensionality))\n",
    "        # self.weight_matrix = np.ones((output_shape, data_dimensionality))\n",
    "        self.step_size = step_size\n",
    "        self.neighborhood_size = neighborhood_size\n",
    "\n",
    "    def find_winner(self, sample):\n",
    "        distances = []\n",
    "        for row in range(self.weight_matrix.shape[0]):\n",
    "            d = np.linalg.norm(sample - self.weight_matrix[row,:])\n",
    "            distances.append(d)\n",
    "            # print(\"{}: {}\".format(row, d))\n",
    "        \n",
    "        winner = np.argmin(np.array(distances))\n",
    "        # print(\"winner is: {}\".format(winner))\n",
    "        return winner\n",
    "\n",
    "    def get_neighborhood(self, winner):\n",
    "        neighborhood = range(np.clip(winner - self.neighborhood_size, 0, None), np.clip(winner + self.neighborhood_size, None, self.output_shape - 1))\n",
    "        return neighborhood\n",
    "    \n",
    "    def update_weights(self, neighborhood, sample):\n",
    "        for row in range(self.weight_matrix.shape[0]):\n",
    "            if row in neighborhood:\n",
    "                # print(\"{} is in neighbors\".format(row))\n",
    "                # print(\"old row{}: {}\".format(row, self.weight_matrix[row]))\n",
    "                new_row = self.weight_matrix[row] + (sample - self.weight_matrix[row]) * self.step_size\n",
    "                self.weight_matrix[row] = new_row\n",
    "                # print(\"new_row {}: {}\".format(row, new_row))\n",
    "\n",
    "    def fit(self, X, n_epochs):\n",
    "        for e in range(n_epochs):\n",
    "            # y = -3*e + 50\n",
    "            y = descending_logarithmic(e)\n",
    "            # y = custom_sigmoid(e)\n",
    "\n",
    "            if (y>0):\n",
    "                self.neighborhood_size = math.floor(y)\n",
    "            else:\n",
    "                self.neighborhood_size = 0\n",
    "\n",
    "            print(\"{}: {}\".format(e, self.neighborhood_size))\n",
    "\n",
    "            for row in range(X.shape[0]):\n",
    "                winner = self.find_winner(X[row])\n",
    "                neighborhood = self.get_neighborhood(winner)\n",
    "\n",
    "                self.update_weights(neighborhood, X[row])"
   ]
  },
  {
   "cell_type": "code",
   "execution_count": 37,
   "metadata": {},
   "outputs": [],
   "source": [
    "som = SOM(100, 84, 0.2, 50)"
   ]
  },
  {
   "cell_type": "code",
   "execution_count": 38,
   "metadata": {},
   "outputs": [
    {
     "name": "stdout",
     "output_type": "stream",
     "text": [
      "0: 49\n",
      "1: 39\n",
      "2: 31\n",
      "3: 25\n",
      "4: 20\n",
      "5: 16\n",
      "6: 13\n",
      "7: 10\n",
      "8: 8\n",
      "9: 6\n",
      "10: 5\n",
      "11: 4\n",
      "12: 3\n",
      "13: 2\n",
      "14: 2\n",
      "15: 1\n",
      "16: 1\n",
      "17: 1\n",
      "18: 0\n",
      "19: 0\n"
     ]
    }
   ],
   "source": [
    "som.fit(data, 20)"
   ]
  },
  {
   "cell_type": "code",
   "execution_count": 39,
   "metadata": {},
   "outputs": [
    {
     "data": {
      "text/plain": [
       "array([[2.73871761e-03, 1.61755571e-13, 1.72402375e-08, ...,\n",
       "        6.29742983e-14, 1.26781860e-12, 5.87237291e-01],\n",
       "       [4.22995265e-01, 9.50646454e-14, 1.37297527e-08, ...,\n",
       "        1.33917766e-14, 8.03388599e-13, 1.79467883e-01],\n",
       "       [7.12217495e-01, 1.21044704e-13, 2.68131917e-08, ...,\n",
       "        4.13757217e-14, 1.03852567e-12, 1.12220159e-01],\n",
       "       ...,\n",
       "       [3.90380339e-08, 9.99999783e-01, 3.19933428e-08, ...,\n",
       "        3.13322407e-04, 9.99686572e-01, 5.56814134e-03],\n",
       "       [6.08984506e-08, 9.99999823e-01, 4.01276463e-08, ...,\n",
       "        3.13292110e-04, 9.99686629e-01, 5.56812261e-03],\n",
       "       [6.62486690e-01, 8.13865839e-01, 1.77939593e-02, ...,\n",
       "        3.29701119e-02, 8.53232302e-01, 6.43724927e-01]])"
      ]
     },
     "execution_count": 39,
     "metadata": {},
     "output_type": "execute_result"
    }
   ],
   "source": [
    "som.weight_matrix"
   ]
  },
  {
   "cell_type": "code",
   "execution_count": 40,
   "metadata": {},
   "outputs": [
    {
     "data": {
      "text/plain": [
       "2"
      ]
     },
     "execution_count": 40,
     "metadata": {},
     "output_type": "execute_result"
    }
   ],
   "source": [
    "som.find_winner(data[0])"
   ]
  },
  {
   "cell_type": "code",
   "execution_count": 41,
   "metadata": {},
   "outputs": [],
   "source": [
    "winnrz = []\n",
    "\n",
    "for row in range(data.shape[0]):\n",
    "    winnrz.append( (row, som.find_winner(data[row])) )"
   ]
  },
  {
   "cell_type": "code",
   "execution_count": 42,
   "metadata": {},
   "outputs": [
    {
     "data": {
      "text/plain": [
       "(32,\n",
       " [(0, 2),\n",
       "  (1, 32),\n",
       "  (2, 15),\n",
       "  (3, 38),\n",
       "  (4, 95),\n",
       "  (5, 89),\n",
       "  (6, 0),\n",
       "  (7, 28),\n",
       "  (8, 47),\n",
       "  (9, 22),\n",
       "  (10, 98),\n",
       "  (11, 65),\n",
       "  (12, 7),\n",
       "  (13, 54),\n",
       "  (14, 0),\n",
       "  (15, 92),\n",
       "  (16, 5),\n",
       "  (17, 81),\n",
       "  (18, 35),\n",
       "  (19, 9),\n",
       "  (20, 25),\n",
       "  (21, 85),\n",
       "  (22, 58),\n",
       "  (23, 70),\n",
       "  (24, 61),\n",
       "  (25, 0),\n",
       "  (26, 12),\n",
       "  (27, 17),\n",
       "  (28, 50),\n",
       "  (29, 19),\n",
       "  (30, 77),\n",
       "  (31, 43)])"
      ]
     },
     "execution_count": 42,
     "metadata": {},
     "output_type": "execute_result"
    }
   ],
   "source": [
    "len(winnrz), winnrz"
   ]
  },
  {
   "cell_type": "code",
   "execution_count": 43,
   "metadata": {},
   "outputs": [
    {
     "data": {
      "text/plain": [
       "[(6, 0),\n",
       " (14, 0),\n",
       " (25, 0),\n",
       " (0, 2),\n",
       " (16, 5),\n",
       " (12, 7),\n",
       " (19, 9),\n",
       " (26, 12),\n",
       " (2, 15),\n",
       " (27, 17),\n",
       " (29, 19),\n",
       " (9, 22),\n",
       " (20, 25),\n",
       " (7, 28),\n",
       " (1, 32),\n",
       " (18, 35),\n",
       " (3, 38),\n",
       " (31, 43),\n",
       " (8, 47),\n",
       " (28, 50),\n",
       " (13, 54),\n",
       " (22, 58),\n",
       " (24, 61),\n",
       " (11, 65),\n",
       " (23, 70),\n",
       " (30, 77),\n",
       " (17, 81),\n",
       " (21, 85),\n",
       " (5, 89),\n",
       " (15, 92),\n",
       " (4, 95),\n",
       " (10, 98)]"
      ]
     },
     "execution_count": 43,
     "metadata": {},
     "output_type": "execute_result"
    }
   ],
   "source": [
    "sorted_winnrz = sorted(winnrz, key=lambda x: x[1])\n",
    "sorted_winnrz"
   ]
  },
  {
   "cell_type": "code",
   "execution_count": 44,
   "metadata": {},
   "outputs": [
    {
     "data": {
      "text/plain": [
       "array([\"'antelop'\", \"'ape'\", \"'bat'\", \"'bear'\", \"'beetle'\", \"'butterfly'\",\n",
       "       \"'camel'\", \"'cat'\", \"'crocodile'\", \"'dog'\", \"'dragonfly'\",\n",
       "       \"'duck'\", \"'elephant'\", \"'frog'\", \"'giraffe'\", \"'grasshopper'\",\n",
       "       \"'horse'\", \"'housefly'\", \"'hyena'\", \"'kangaroo'\", \"'lion'\",\n",
       "       \"'moskito'\", \"'ostrich'\", \"'pelican'\", \"'penguin'\", \"'pig'\",\n",
       "       \"'rabbit'\", \"'rat'\", \"'seaturtle'\", \"'skunk'\", \"'spider'\",\n",
       "       \"'walrus'\"], dtype='<U13')"
      ]
     },
     "execution_count": 44,
     "metadata": {},
     "output_type": "execute_result"
    }
   ],
   "source": [
    "names = np.genfromtxt('data_lab2/animalnames.txt',\n",
    "                     dtype=str)\n",
    "names"
   ]
  },
  {
   "cell_type": "code",
   "execution_count": 45,
   "metadata": {},
   "outputs": [
    {
     "name": "stdout",
     "output_type": "stream",
     "text": [
      "'camel' 0\n",
      "'giraffe' 0\n",
      "'pig' 0\n",
      "'antelop' 2\n",
      "'horse' 5\n",
      "'elephant' 7\n",
      "'kangaroo' 9\n",
      "'rabbit' 12\n",
      "'bat' 15\n",
      "'rat' 17\n",
      "'skunk' 19\n",
      "'dog' 22\n",
      "'lion' 25\n",
      "'cat' 28\n",
      "'ape' 32\n",
      "'hyena' 35\n",
      "'bear' 38\n",
      "'walrus' 43\n",
      "'crocodile' 47\n",
      "'seaturtle' 50\n",
      "'frog' 54\n",
      "'ostrich' 58\n",
      "'penguin' 61\n",
      "'duck' 65\n",
      "'pelican' 70\n",
      "'spider' 77\n",
      "'housefly' 81\n",
      "'moskito' 85\n",
      "'butterfly' 89\n",
      "'grasshopper' 92\n",
      "'beetle' 95\n",
      "'dragonfly' 98\n"
     ]
    }
   ],
   "source": [
    "for w in sorted_winnrz:\n",
    "    print(names[w[0]], w[1])"
   ]
  }
 ],
 "metadata": {
  "kernelspec": {
   "display_name": "AnndaKTH",
   "language": "python",
   "name": "python3"
  },
  "language_info": {
   "codemirror_mode": {
    "name": "ipython",
    "version": 3
   },
   "file_extension": ".py",
   "mimetype": "text/x-python",
   "name": "python",
   "nbconvert_exporter": "python",
   "pygments_lexer": "ipython3",
   "version": "3.11.4"
  },
  "orig_nbformat": 4
 },
 "nbformat": 4,
 "nbformat_minor": 2
}
