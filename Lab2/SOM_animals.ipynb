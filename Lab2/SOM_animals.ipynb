{
 "cells": [
  {
   "cell_type": "markdown",
   "metadata": {},
   "source": [
    "# Self-Organizing Maps - SOMs"
   ]
  },
  {
   "cell_type": "markdown",
   "metadata": {},
   "source": [
    "### Organizing animals"
   ]
  },
  {
   "cell_type": "code",
   "execution_count": 157,
   "metadata": {},
   "outputs": [],
   "source": [
    "import numpy as np"
   ]
  },
  {
   "cell_type": "code",
   "execution_count": 158,
   "metadata": {},
   "outputs": [
    {
     "data": {
      "text/plain": [
       "(32, 84)"
      ]
     },
     "execution_count": 158,
     "metadata": {},
     "output_type": "execute_result"
    }
   ],
   "source": [
    "data = np.genfromtxt('data_lab2/animals.dat',\n",
    "                     dtype=None,\n",
    "                     delimiter=',')\n",
    "data = data.reshape(32,84)\n",
    "data.shape"
   ]
  },
  {
   "cell_type": "code",
   "execution_count": 159,
   "metadata": {},
   "outputs": [
    {
     "data": {
      "text/plain": [
       "array([1, 0, 0, 0, 0, 0, 0, 1, 0, 0, 1, 0, 0, 0, 0, 0, 0, 0, 0, 0, 1, 0,\n",
       "       0, 0, 0, 0, 0, 0, 0, 0, 1, 0, 1, 0, 0, 0, 0, 1, 0, 0, 1, 1, 1, 1,\n",
       "       0, 0, 1, 1, 1, 0, 0, 0, 1, 1, 0, 0, 0, 0, 0, 0, 1, 1, 0, 0, 1, 0,\n",
       "       0, 0, 1, 0, 0, 0, 0, 0, 0, 1, 0, 0, 0, 0, 0, 0, 0, 0])"
      ]
     },
     "execution_count": 159,
     "metadata": {},
     "output_type": "execute_result"
    }
   ],
   "source": [
    "data[0]"
   ]
  },
  {
   "cell_type": "markdown",
   "metadata": {},
   "source": [
    "### Algorithm: for each sample\n",
    "1. Calculate the similarity between the input pattern and the weights arriving\n",
    "at each output node.\n",
    "2. Find the most similar node; often referred to as the winner.\n",
    "3. Select a set of output nodes which are located close to the winner in the\n",
    "output grid. This is called the neighbourhood.\n",
    "4. Update the weights of all nodes in the neighbourhood such that their\n",
    "weights are moved closer to the input pattern."
   ]
  },
  {
   "cell_type": "code",
   "execution_count": 160,
   "metadata": {},
   "outputs": [],
   "source": [
    "def descending_logarithmic(x):\n",
    "    A = 49\n",
    "    k = -np.log(0.03) / 16  # Calcola k in modo che y sia 1 quando x è 16\n",
    "    B = 0  # Per ottenere y = 1 quando x è 16\n",
    "    return A * np.exp(-k * x) + B"
   ]
  },
  {
   "cell_type": "code",
   "execution_count": 161,
   "metadata": {},
   "outputs": [],
   "source": [
    "def custom_sigmoid(x):\n",
    "    k = 4  # Puoi regolare k per controllare la pendenza\n",
    "    return 50 - (50 / (1 + np.exp(-k * (x - 15))))"
   ]
  },
  {
   "cell_type": "code",
   "execution_count": 162,
   "metadata": {},
   "outputs": [],
   "source": [
    "import math\n",
    "\n",
    "class SOM:\n",
    "    def __init__(self, output_shape, data_dimensionality, step_size, neighborhood_size):\n",
    "        self.output_shape = output_shape\n",
    "        self.weight_matrix = np.random.random((output_shape, data_dimensionality))\n",
    "        # self.weight_matrix = np.ones((output_shape, data_dimensionality))\n",
    "        self.step_size = step_size\n",
    "        self.neighborhood_size = neighborhood_size\n",
    "\n",
    "    def find_winner(self, sample):\n",
    "        distances = []\n",
    "        for row in range(self.weight_matrix.shape[0]):\n",
    "            d = np.linalg.norm(sample - self.weight_matrix[row,:])\n",
    "            distances.append(d)\n",
    "            # print(\"{}: {}\".format(row, d))\n",
    "        \n",
    "        winner = np.argmin(np.array(distances))\n",
    "        # print(\"winner is: {}\".format(winner))\n",
    "        return winner\n",
    "\n",
    "    def get_neighborhood(self, winner):\n",
    "        neighborhood = range(np.clip(winner - self.neighborhood_size, 0, None), np.clip(winner + self.neighborhood_size, None, self.output_shape - 1))\n",
    "        return neighborhood\n",
    "    \n",
    "    def update_weights(self, neighborhood, sample):\n",
    "        for row in range(self.weight_matrix.shape[0]):\n",
    "            if row in neighborhood:\n",
    "                # print(\"{} is in neighbors\".format(row))\n",
    "                # print(\"old row{}: {}\".format(row, self.weight_matrix[row]))\n",
    "                new_row = self.weight_matrix[row] + (sample - self.weight_matrix[row]) * self.step_size\n",
    "                # print(\"new_row {}: {}\".format(row, new_row))\n",
    "\n",
    "    def fit(self, X, n_epochs):\n",
    "        for e in range(n_epochs):\n",
    "            # y = -3*e + 50\n",
    "            # y = descending_logarithmic(e)\n",
    "            y = custom_sigmoid(e)\n",
    "\n",
    "            self.neighborhood_size = math.floor(y)\n",
    "            # else:\n",
    "            #     self.neighborhood_size = 1\n",
    "\n",
    "            print(\"{}: {}\".format(e, self.neighborhood_size))\n",
    "\n",
    "            for row in range(X.shape[0]):\n",
    "                winner = self.find_winner(X[row])\n",
    "                neighborhood = self.get_neighborhood(winner)\n",
    "\n",
    "                self.update_weights(neighborhood, X[row])"
   ]
  },
  {
   "cell_type": "code",
   "execution_count": 163,
   "metadata": {},
   "outputs": [],
   "source": [
    "som = SOM(100, 84, 0.2, 50)"
   ]
  },
  {
   "cell_type": "code",
   "execution_count": 164,
   "metadata": {},
   "outputs": [
    {
     "name": "stdout",
     "output_type": "stream",
     "text": [
      "0: 50\n",
      "1: 50\n",
      "2: 50\n",
      "3: 50\n",
      "4: 50\n",
      "5: 50\n",
      "6: 49\n",
      "7: 49\n",
      "8: 49\n",
      "9: 49\n",
      "10: 49\n",
      "11: 49\n",
      "12: 49\n",
      "13: 49\n",
      "14: 49\n",
      "15: 25\n",
      "16: 0\n",
      "17: 0\n",
      "18: 0\n",
      "19: 0\n"
     ]
    }
   ],
   "source": [
    "som.fit(data, 20)"
   ]
  },
  {
   "cell_type": "code",
   "execution_count": 165,
   "metadata": {},
   "outputs": [
    {
     "data": {
      "text/plain": [
       "array([[0.3349908 , 0.11924137, 0.43018933, ..., 0.23105268, 0.20325419,\n",
       "        0.31438278],\n",
       "       [0.06345794, 0.67725415, 0.15500831, ..., 0.17103375, 0.99863344,\n",
       "        0.1046623 ],\n",
       "       [0.11434145, 0.89163578, 0.98460569, ..., 0.02383097, 0.76844143,\n",
       "        0.8166585 ],\n",
       "       ...,\n",
       "       [0.11075478, 0.48907421, 0.69731791, ..., 0.330521  , 0.09044452,\n",
       "        0.968474  ],\n",
       "       [0.62890204, 0.89251646, 0.9211009 , ..., 0.26656757, 0.68316064,\n",
       "        0.46358345],\n",
       "       [0.06638455, 0.24862305, 0.76238581, ..., 0.63175102, 0.6422038 ,\n",
       "        0.39662713]])"
      ]
     },
     "execution_count": 165,
     "metadata": {},
     "output_type": "execute_result"
    }
   ],
   "source": [
    "som.weight_matrix"
   ]
  },
  {
   "cell_type": "code",
   "execution_count": 166,
   "metadata": {},
   "outputs": [
    {
     "data": {
      "text/plain": [
       "15"
      ]
     },
     "execution_count": 166,
     "metadata": {},
     "output_type": "execute_result"
    }
   ],
   "source": [
    "som.find_winner(data[0])"
   ]
  },
  {
   "cell_type": "code",
   "execution_count": 167,
   "metadata": {},
   "outputs": [],
   "source": [
    "winnrz = []\n",
    "\n",
    "for row in range(data.shape[0]):\n",
    "    winnrz.append( (row, som.find_winner(data[row])) )"
   ]
  },
  {
   "cell_type": "code",
   "execution_count": 168,
   "metadata": {},
   "outputs": [
    {
     "data": {
      "text/plain": [
       "(32,\n",
       " [(0, 15),\n",
       "  (1, 66),\n",
       "  (2, 8),\n",
       "  (3, 50),\n",
       "  (4, 65),\n",
       "  (5, 65),\n",
       "  (6, 71),\n",
       "  (7, 51),\n",
       "  (8, 65),\n",
       "  (9, 51),\n",
       "  (10, 65),\n",
       "  (11, 65),\n",
       "  (12, 50),\n",
       "  (13, 30),\n",
       "  (14, 45),\n",
       "  (15, 65),\n",
       "  (16, 50),\n",
       "  (17, 65),\n",
       "  (18, 50),\n",
       "  (19, 50),\n",
       "  (20, 15),\n",
       "  (21, 2),\n",
       "  (22, 8),\n",
       "  (23, 65),\n",
       "  (24, 65),\n",
       "  (25, 50),\n",
       "  (26, 50),\n",
       "  (27, 81),\n",
       "  (28, 45),\n",
       "  (29, 30),\n",
       "  (30, 96),\n",
       "  (31, 33)])"
      ]
     },
     "execution_count": 168,
     "metadata": {},
     "output_type": "execute_result"
    }
   ],
   "source": [
    "len(winnrz), winnrz"
   ]
  },
  {
   "cell_type": "code",
   "execution_count": 169,
   "metadata": {},
   "outputs": [
    {
     "data": {
      "text/plain": [
       "[(21, 2),\n",
       " (2, 8),\n",
       " (22, 8),\n",
       " (0, 15),\n",
       " (20, 15),\n",
       " (13, 30),\n",
       " (29, 30),\n",
       " (31, 33),\n",
       " (14, 45),\n",
       " (28, 45),\n",
       " (3, 50),\n",
       " (12, 50),\n",
       " (16, 50),\n",
       " (18, 50),\n",
       " (19, 50),\n",
       " (25, 50),\n",
       " (26, 50),\n",
       " (7, 51),\n",
       " (9, 51),\n",
       " (4, 65),\n",
       " (5, 65),\n",
       " (8, 65),\n",
       " (10, 65),\n",
       " (11, 65),\n",
       " (15, 65),\n",
       " (17, 65),\n",
       " (23, 65),\n",
       " (24, 65),\n",
       " (1, 66),\n",
       " (6, 71),\n",
       " (27, 81),\n",
       " (30, 96)]"
      ]
     },
     "execution_count": 169,
     "metadata": {},
     "output_type": "execute_result"
    }
   ],
   "source": [
    "sorted_winnrz = sorted(winnrz, key=lambda x: x[1])\n",
    "sorted_winnrz"
   ]
  },
  {
   "cell_type": "code",
   "execution_count": 170,
   "metadata": {},
   "outputs": [
    {
     "data": {
      "text/plain": [
       "array([\"'antelop'\", \"'ape'\", \"'bat'\", \"'bear'\", \"'beetle'\", \"'butterfly'\",\n",
       "       \"'camel'\", \"'cat'\", \"'crocodile'\", \"'dog'\", \"'dragonfly'\",\n",
       "       \"'duck'\", \"'elephant'\", \"'frog'\", \"'giraffe'\", \"'grasshopper'\",\n",
       "       \"'horse'\", \"'housefly'\", \"'hyena'\", \"'kangaroo'\", \"'lion'\",\n",
       "       \"'moskito'\", \"'ostrich'\", \"'pelican'\", \"'penguin'\", \"'pig'\",\n",
       "       \"'rabbit'\", \"'rat'\", \"'seaturtle'\", \"'skunk'\", \"'spider'\",\n",
       "       \"'walrus'\"], dtype='<U13')"
      ]
     },
     "execution_count": 170,
     "metadata": {},
     "output_type": "execute_result"
    }
   ],
   "source": [
    "names = np.genfromtxt('data_lab2/animalnames.txt',\n",
    "                     dtype=str)\n",
    "names"
   ]
  },
  {
   "cell_type": "code",
   "execution_count": 171,
   "metadata": {},
   "outputs": [
    {
     "name": "stdout",
     "output_type": "stream",
     "text": [
      "'moskito' 2\n",
      "'bat' 8\n",
      "'ostrich' 8\n",
      "'antelop' 15\n",
      "'lion' 15\n",
      "'frog' 30\n",
      "'skunk' 30\n",
      "'walrus' 33\n",
      "'giraffe' 45\n",
      "'seaturtle' 45\n",
      "'bear' 50\n",
      "'elephant' 50\n",
      "'horse' 50\n",
      "'hyena' 50\n",
      "'kangaroo' 50\n",
      "'pig' 50\n",
      "'rabbit' 50\n",
      "'cat' 51\n",
      "'dog' 51\n",
      "'beetle' 65\n",
      "'butterfly' 65\n",
      "'crocodile' 65\n",
      "'dragonfly' 65\n",
      "'duck' 65\n",
      "'grasshopper' 65\n",
      "'housefly' 65\n",
      "'pelican' 65\n",
      "'penguin' 65\n",
      "'ape' 66\n",
      "'camel' 71\n",
      "'rat' 81\n",
      "'spider' 96\n"
     ]
    }
   ],
   "source": [
    "for w in sorted_winnrz:\n",
    "    print(names[w[0]], w[1])"
   ]
  }
 ],
 "metadata": {
  "kernelspec": {
   "display_name": "AnndaKTH",
   "language": "python",
   "name": "python3"
  },
  "language_info": {
   "codemirror_mode": {
    "name": "ipython",
    "version": 3
   },
   "file_extension": ".py",
   "mimetype": "text/x-python",
   "name": "python",
   "nbconvert_exporter": "python",
   "pygments_lexer": "ipython3",
   "version": "3.11.4"
  },
  "orig_nbformat": 4
 },
 "nbformat": 4,
 "nbformat_minor": 2
}
