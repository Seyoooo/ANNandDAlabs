{
 "cells": [
  {
   "cell_type": "markdown",
   "metadata": {},
   "source": [
    "# Self-Organizing Maps - SOMs"
   ]
  },
  {
   "cell_type": "markdown",
   "metadata": {},
   "source": [
    "### Organizing animals"
   ]
  },
  {
   "cell_type": "code",
   "execution_count": 217,
   "metadata": {},
   "outputs": [],
   "source": [
    "import numpy as np"
   ]
  },
  {
   "cell_type": "code",
   "execution_count": 218,
   "metadata": {},
   "outputs": [
    {
     "data": {
      "text/plain": [
       "(32, 84)"
      ]
     },
     "execution_count": 218,
     "metadata": {},
     "output_type": "execute_result"
    }
   ],
   "source": [
    "data = np.genfromtxt('data_lab2/animals.dat',\n",
    "                     dtype=None,\n",
    "                     delimiter=',')\n",
    "data = data.reshape(32,84)\n",
    "data.shape"
   ]
  },
  {
   "cell_type": "code",
   "execution_count": 219,
   "metadata": {},
   "outputs": [
    {
     "data": {
      "text/plain": [
       "array([1, 0, 0, 0, 0, 0, 0, 1, 0, 0, 1, 0, 0, 0, 0, 0, 0, 0, 0, 0, 1, 0,\n",
       "       0, 0, 0, 0, 0, 0, 0, 0, 1, 0, 1, 0, 0, 0, 0, 1, 0, 0, 1, 1, 1, 1,\n",
       "       0, 0, 1, 1, 1, 0, 0, 0, 1, 1, 0, 0, 0, 0, 0, 0, 1, 1, 0, 0, 1, 0,\n",
       "       0, 0, 1, 0, 0, 0, 0, 0, 0, 1, 0, 0, 0, 0, 0, 0, 0, 0])"
      ]
     },
     "execution_count": 219,
     "metadata": {},
     "output_type": "execute_result"
    }
   ],
   "source": [
    "data[0]"
   ]
  },
  {
   "cell_type": "markdown",
   "metadata": {},
   "source": [
    "### Algorithm: for each sample\n",
    "1. Calculate the similarity between the input pattern and the weights arriving\n",
    "at each output node.\n",
    "2. Find the most similar node; often referred to as the winner.\n",
    "3. Select a set of output nodes which are located close to the winner in the\n",
    "output grid. This is called the neighbourhood.\n",
    "4. Update the weights of all nodes in the neighbourhood such that their\n",
    "weights are moved closer to the input pattern."
   ]
  },
  {
   "cell_type": "code",
   "execution_count": 220,
   "metadata": {},
   "outputs": [],
   "source": [
    "def descending_logarithmic(x):\n",
    "    A = 49\n",
    "    k = -np.log(0.03) / 16  # Calcola k in modo che y sia 1 quando x è 16\n",
    "    B = 0  # Per ottenere y = 1 quando x è 16\n",
    "    return A * np.exp(-k * x) + B"
   ]
  },
  {
   "cell_type": "code",
   "execution_count": 221,
   "metadata": {},
   "outputs": [],
   "source": [
    "def custom_sigmoid(x):\n",
    "    k = 4  # Puoi regolare k per controllare la pendenza\n",
    "    return 50 - (50 / (1 + np.exp(-k * (x - 15))))"
   ]
  },
  {
   "cell_type": "code",
   "execution_count": 222,
   "metadata": {},
   "outputs": [],
   "source": [
    "import math\n",
    "\n",
    "class SOM:\n",
    "    def __init__(self, output_shape, data_dimensionality, step_size, neighborhood_size):\n",
    "        self.output_shape = output_shape\n",
    "        self.weight_matrix = np.random.random((output_shape, data_dimensionality))\n",
    "        # self.weight_matrix = np.ones((output_shape, data_dimensionality))\n",
    "        self.step_size = step_size\n",
    "        self.neighborhood_size = neighborhood_size\n",
    "\n",
    "    def find_winner(self, sample):\n",
    "        distances = []\n",
    "        for row in range(self.weight_matrix.shape[0]):\n",
    "            d = np.linalg.norm(sample - self.weight_matrix[row,:])\n",
    "            distances.append(d)\n",
    "            # print(\"{}: {}\".format(row, d))\n",
    "        \n",
    "        winner = np.argmin(np.array(distances))\n",
    "        # print(\"winner is: {}\".format(winner))\n",
    "        return winner\n",
    "\n",
    "    def get_neighborhood(self, winner):\n",
    "        neighborhood = range(np.clip(winner - self.neighborhood_size, 0, None), np.clip(winner + self.neighborhood_size, None, self.output_shape - 1))\n",
    "        return neighborhood\n",
    "    \n",
    "    def update_weights(self, neighborhood, sample):\n",
    "        for row in range(self.weight_matrix.shape[0]):\n",
    "            if row in neighborhood:\n",
    "                # print(\"{} is in neighbors\".format(row))\n",
    "                # print(\"old row{}: {}\".format(row, self.weight_matrix[row]))\n",
    "                new_row = self.weight_matrix[row] + (sample - self.weight_matrix[row]) * self.step_size\n",
    "                # print(\"new_row {}: {}\".format(row, new_row))\n",
    "\n",
    "    def fit(self, X, n_epochs):\n",
    "        for e in range(n_epochs):\n",
    "            # y = -3*e + 50\n",
    "            y = descending_logarithmic(e)\n",
    "            # y = custom_sigmoid(e)\n",
    "\n",
    "            if (y>0):\n",
    "                self.neighborhood_size = math.floor(y)\n",
    "            else:\n",
    "                self.neighborhood_size = 0\n",
    "\n",
    "            print(\"{}: {}\".format(e, self.neighborhood_size))\n",
    "\n",
    "            for row in range(X.shape[0]):\n",
    "                winner = self.find_winner(X[row])\n",
    "                neighborhood = self.get_neighborhood(winner)\n",
    "\n",
    "                self.update_weights(neighborhood, X[row])"
   ]
  },
  {
   "cell_type": "code",
   "execution_count": 223,
   "metadata": {},
   "outputs": [],
   "source": [
    "som = SOM(100, 84, 0.2, 50)"
   ]
  },
  {
   "cell_type": "code",
   "execution_count": 224,
   "metadata": {},
   "outputs": [
    {
     "name": "stdout",
     "output_type": "stream",
     "text": [
      "0: 49\n",
      "1: 39\n",
      "2: 31\n",
      "3: 25\n",
      "4: 20\n",
      "5: 16\n",
      "6: 13\n",
      "7: 10\n",
      "8: 8\n",
      "9: 6\n",
      "10: 5\n",
      "11: 4\n",
      "12: 3\n",
      "13: 2\n",
      "14: 2\n",
      "15: 1\n",
      "16: 1\n",
      "17: 1\n",
      "18: 0\n",
      "19: 0\n"
     ]
    }
   ],
   "source": [
    "som.fit(data, 20)"
   ]
  },
  {
   "cell_type": "code",
   "execution_count": 225,
   "metadata": {},
   "outputs": [
    {
     "data": {
      "text/plain": [
       "array([[0.32845994, 0.08800595, 0.35366426, ..., 0.92744572, 0.94109289,\n",
       "        0.64824048],\n",
       "       [0.95340447, 0.20285887, 0.69400369, ..., 0.74838858, 0.00372284,\n",
       "        0.0410321 ],\n",
       "       [0.2414378 , 0.28414413, 0.35682634, ..., 0.20760651, 0.43936144,\n",
       "        0.70954616],\n",
       "       ...,\n",
       "       [0.76573673, 0.09661857, 0.2163361 , ..., 0.50826435, 0.15321952,\n",
       "        0.80269831],\n",
       "       [0.17347927, 0.03688877, 0.47919288, ..., 0.45078453, 0.03671861,\n",
       "        0.17426771],\n",
       "       [0.55944295, 0.60585788, 0.26495668, ..., 0.60143104, 0.66099469,\n",
       "        0.52123074]])"
      ]
     },
     "execution_count": 225,
     "metadata": {},
     "output_type": "execute_result"
    }
   ],
   "source": [
    "som.weight_matrix"
   ]
  },
  {
   "cell_type": "code",
   "execution_count": 226,
   "metadata": {},
   "outputs": [
    {
     "data": {
      "text/plain": [
       "21"
      ]
     },
     "execution_count": 226,
     "metadata": {},
     "output_type": "execute_result"
    }
   ],
   "source": [
    "som.find_winner(data[0])"
   ]
  },
  {
   "cell_type": "code",
   "execution_count": 227,
   "metadata": {},
   "outputs": [],
   "source": [
    "winnrz = []\n",
    "\n",
    "for row in range(data.shape[0]):\n",
    "    winnrz.append( (row, som.find_winner(data[row])) )"
   ]
  },
  {
   "cell_type": "code",
   "execution_count": 228,
   "metadata": {},
   "outputs": [
    {
     "data": {
      "text/plain": [
       "(32,\n",
       " [(0, 21),\n",
       "  (1, 92),\n",
       "  (2, 58),\n",
       "  (3, 13),\n",
       "  (4, 50),\n",
       "  (5, 50),\n",
       "  (6, 21),\n",
       "  (7, 21),\n",
       "  (8, 21),\n",
       "  (9, 21),\n",
       "  (10, 50),\n",
       "  (11, 26),\n",
       "  (12, 58),\n",
       "  (13, 49),\n",
       "  (14, 21),\n",
       "  (15, 50),\n",
       "  (16, 58),\n",
       "  (17, 50),\n",
       "  (18, 13),\n",
       "  (19, 21),\n",
       "  (20, 21),\n",
       "  (21, 21),\n",
       "  (22, 13),\n",
       "  (23, 13),\n",
       "  (24, 9),\n",
       "  (25, 58),\n",
       "  (26, 72),\n",
       "  (27, 21),\n",
       "  (28, 47),\n",
       "  (29, 21),\n",
       "  (30, 27),\n",
       "  (31, 38)])"
      ]
     },
     "execution_count": 228,
     "metadata": {},
     "output_type": "execute_result"
    }
   ],
   "source": [
    "len(winnrz), winnrz"
   ]
  },
  {
   "cell_type": "code",
   "execution_count": 229,
   "metadata": {},
   "outputs": [
    {
     "data": {
      "text/plain": [
       "[(24, 9),\n",
       " (3, 13),\n",
       " (18, 13),\n",
       " (22, 13),\n",
       " (23, 13),\n",
       " (0, 21),\n",
       " (6, 21),\n",
       " (7, 21),\n",
       " (8, 21),\n",
       " (9, 21),\n",
       " (14, 21),\n",
       " (19, 21),\n",
       " (20, 21),\n",
       " (21, 21),\n",
       " (27, 21),\n",
       " (29, 21),\n",
       " (11, 26),\n",
       " (30, 27),\n",
       " (31, 38),\n",
       " (28, 47),\n",
       " (13, 49),\n",
       " (4, 50),\n",
       " (5, 50),\n",
       " (10, 50),\n",
       " (15, 50),\n",
       " (17, 50),\n",
       " (2, 58),\n",
       " (12, 58),\n",
       " (16, 58),\n",
       " (25, 58),\n",
       " (26, 72),\n",
       " (1, 92)]"
      ]
     },
     "execution_count": 229,
     "metadata": {},
     "output_type": "execute_result"
    }
   ],
   "source": [
    "sorted_winnrz = sorted(winnrz, key=lambda x: x[1])\n",
    "sorted_winnrz"
   ]
  },
  {
   "cell_type": "code",
   "execution_count": 230,
   "metadata": {},
   "outputs": [
    {
     "data": {
      "text/plain": [
       "array([\"'antelop'\", \"'ape'\", \"'bat'\", \"'bear'\", \"'beetle'\", \"'butterfly'\",\n",
       "       \"'camel'\", \"'cat'\", \"'crocodile'\", \"'dog'\", \"'dragonfly'\",\n",
       "       \"'duck'\", \"'elephant'\", \"'frog'\", \"'giraffe'\", \"'grasshopper'\",\n",
       "       \"'horse'\", \"'housefly'\", \"'hyena'\", \"'kangaroo'\", \"'lion'\",\n",
       "       \"'moskito'\", \"'ostrich'\", \"'pelican'\", \"'penguin'\", \"'pig'\",\n",
       "       \"'rabbit'\", \"'rat'\", \"'seaturtle'\", \"'skunk'\", \"'spider'\",\n",
       "       \"'walrus'\"], dtype='<U13')"
      ]
     },
     "execution_count": 230,
     "metadata": {},
     "output_type": "execute_result"
    }
   ],
   "source": [
    "names = np.genfromtxt('data_lab2/animalnames.txt',\n",
    "                     dtype=str)\n",
    "names"
   ]
  },
  {
   "cell_type": "code",
   "execution_count": 231,
   "metadata": {},
   "outputs": [
    {
     "name": "stdout",
     "output_type": "stream",
     "text": [
      "'penguin' 9\n",
      "'bear' 13\n",
      "'hyena' 13\n",
      "'ostrich' 13\n",
      "'pelican' 13\n",
      "'antelop' 21\n",
      "'camel' 21\n",
      "'cat' 21\n",
      "'crocodile' 21\n",
      "'dog' 21\n",
      "'giraffe' 21\n",
      "'kangaroo' 21\n",
      "'lion' 21\n",
      "'moskito' 21\n",
      "'rat' 21\n",
      "'skunk' 21\n",
      "'duck' 26\n",
      "'spider' 27\n",
      "'walrus' 38\n",
      "'seaturtle' 47\n",
      "'frog' 49\n",
      "'beetle' 50\n",
      "'butterfly' 50\n",
      "'dragonfly' 50\n",
      "'grasshopper' 50\n",
      "'housefly' 50\n",
      "'bat' 58\n",
      "'elephant' 58\n",
      "'horse' 58\n",
      "'pig' 58\n",
      "'rabbit' 72\n",
      "'ape' 92\n"
     ]
    }
   ],
   "source": [
    "for w in sorted_winnrz:\n",
    "    print(names[w[0]], w[1])"
   ]
  }
 ],
 "metadata": {
  "kernelspec": {
   "display_name": "AnndaKTH",
   "language": "python",
   "name": "python3"
  },
  "language_info": {
   "codemirror_mode": {
    "name": "ipython",
    "version": 3
   },
   "file_extension": ".py",
   "mimetype": "text/x-python",
   "name": "python",
   "nbconvert_exporter": "python",
   "pygments_lexer": "ipython3",
   "version": "3.11.4"
  },
  "orig_nbformat": 4
 },
 "nbformat": 4,
 "nbformat_minor": 2
}
