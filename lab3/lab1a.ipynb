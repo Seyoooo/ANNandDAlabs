{
 "cells": [
  {
   "cell_type": "markdown",
   "metadata": {},
   "source": [
    "### Hopefield network implementation"
   ]
  },
  {
   "cell_type": "code",
   "execution_count": 25,
   "metadata": {},
   "outputs": [],
   "source": [
    "import numpy as np"
   ]
  },
  {
   "cell_type": "code",
   "execution_count": 30,
   "metadata": {},
   "outputs": [],
   "source": [
    "class Hopfield:\n",
    "    def __init__(self, nb_neurons):\n",
    "        self.nb_neurons = nb_neurons\n",
    "        self.neurons = np.zeros(nb_neurons)\n",
    "        self.weights = np.zeros((nb_neurons, nb_neurons))\n",
    "    \n",
    "    def clamp(self, sample):\n",
    "        assert sample.shape == self.neurons.shape\n",
    "        self.neurons = sample\n",
    "\n",
    "    def state(self):\n",
    "        return self.neurons\n",
    "\n",
    "    def restart_learning(self):\n",
    "        self.weights = np.zeros((self.nb_neurons, self.nb_neurons))\n",
    "\n",
    "    # Warning /!\\ keep old values of self.weights\n",
    "    # If need to restart learning, use restart_learning function\n",
    "    def hebbian_learning(self, patterns):\n",
    "        for i in range(self.nb_neurons):\n",
    "            for j in range(self.nb_neurons):\n",
    "                if i != j:\n",
    "                    for p in patterns:\n",
    "                        self.weights[i][j] += p[i] * p[j]\n",
    "                    self.weights[i][j] /= self.nb_neurons\n",
    "    \n",
    "    def asynchronous_recall(self, pattern, nb_iterations):\n",
    "        self.clamp(pattern)\n",
    "        neurons_to_update = np.random.randint(self.nb_neurons, size=nb_iterations)\n",
    "        for update in neurons_to_update:\n",
    "            self.neurons[update] = 1 if pattern @ self.weights[update] >= 0 else -1    "
   ]
  },
  {
   "cell_type": "code",
   "execution_count": 31,
   "metadata": {},
   "outputs": [
    {
     "name": "stdout",
     "output_type": "stream",
     "text": [
      "[1 0 1 1 1 1 1 0 0 1]\n"
     ]
    },
    {
     "data": {
      "text/plain": [
       "7.0"
      ]
     },
     "execution_count": 31,
     "metadata": {},
     "output_type": "execute_result"
    }
   ],
   "source": [
    "a = np.random.randint(2, size=10)\n",
    "t = -0.4\n",
    "b = 1 if t > 0 else -1\n",
    "\n",
    "b = np.ones(10)\n",
    "\n",
    "print(a)\n",
    "\n",
    "a @ b\n"
   ]
  },
  {
   "cell_type": "markdown",
   "metadata": {},
   "source": [
    "### 3.1 Convergence and attractors"
   ]
  },
  {
   "cell_type": "code",
   "execution_count": 36,
   "metadata": {},
   "outputs": [],
   "source": [
    "x1 = [-1, -1, 1, -1, 1, -1, -1, 1]\n",
    "x2 = [-1, -1, -1, -1, -1, 1, -1, -1]\n",
    "x3 = [-1, 1, 1, -1, -1, 1, -1, 1]\n",
    "\n",
    "patterns = np.vstack((x1, x2, x3))"
   ]
  },
  {
   "cell_type": "code",
   "execution_count": 51,
   "metadata": {},
   "outputs": [
    {
     "name": "stdout",
     "output_type": "stream",
     "text": [
      "Test on learned patterns\n",
      "Pattern 0 recalled\n",
      "Pattern 1 recalled\n",
      "Pattern 2 recalled\n",
      "\n",
      "Test on noisy patterns\n",
      "Pattern 0 recalled\n",
      "Pattern 1 recalled\n",
      "Pattern 2 recalled\n",
      "\n"
     ]
    }
   ],
   "source": [
    "dim = patterns.shape[1]\n",
    "\n",
    "net = Hopfield(dim)\n",
    "\n",
    "net.hebbian_learning(patterns)\n",
    "\n",
    "# Test recall patterns\n",
    "print('Test on learned patterns')\n",
    "for i, p in enumerate(patterns):\n",
    "    net.asynchronous_recall(p, 5)\n",
    "    if np.sum(p != net.state()) != 0:\n",
    "        print('--> Error!')\n",
    "        print(f'pattern : {p}')\n",
    "        print(f'recall : {net.state()}')\n",
    "        print('-------')\n",
    "    else:\n",
    "        print(f'Pattern {i} recalled')\n",
    "print()\n",
    "\n",
    "# Noisy patterns\n",
    "x1d = np.array([1, -1, 1, -1, 1, -1, -1, 1])\n",
    "x2d = np.array([1, 1, -1, -1, -1, 1, -1, -1])\n",
    "x3d = np.array([1, 1, 1, -1, 1, 1, -1, 1])\n",
    "noisy_patterns = np.vstack((x1d, x2d, x3d))\n",
    "# Test recall patterns\n",
    "print('Test on noisy patterns')\n",
    "for i, p in enumerate(noisy_patterns):\n",
    "    net.asynchronous_recall(p, 1000)\n",
    "    if np.sum(patterns[i] != net.state()) != 0:\n",
    "        print('--> Error!')\n",
    "        print(f'pattern : {patterns[i]}')\n",
    "        print(f'recall : {net.state()}')\n",
    "        print('-------')\n",
    "    else:\n",
    "        print(f'Pattern {i} recalled')\n",
    "print()\n"
   ]
  },
  {
   "cell_type": "code",
   "execution_count": null,
   "metadata": {},
   "outputs": [],
   "source": []
  }
 ],
 "metadata": {
  "kernelspec": {
   "display_name": "Python 3.10.12 64-bit",
   "language": "python",
   "name": "python3"
  },
  "language_info": {
   "codemirror_mode": {
    "name": "ipython",
    "version": 3
   },
   "file_extension": ".py",
   "mimetype": "text/x-python",
   "name": "python",
   "nbconvert_exporter": "python",
   "pygments_lexer": "ipython3",
   "version": "3.10.12"
  },
  "orig_nbformat": 4,
  "vscode": {
   "interpreter": {
    "hash": "e7370f93d1d0cde622a1f8e1c04877d8463912d04d973331ad4851f04de6915a"
   }
  }
 },
 "nbformat": 4,
 "nbformat_minor": 2
}
