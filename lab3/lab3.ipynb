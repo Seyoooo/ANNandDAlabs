{
 "cells": [
  {
   "cell_type": "markdown",
   "metadata": {},
   "source": [
    "### Hopefield network implementation"
   ]
  },
  {
   "cell_type": "code",
   "execution_count": 37,
   "metadata": {},
   "outputs": [],
   "source": [
    "import numpy as np\n",
    "import matplotlib.pyplot as plt"
   ]
  },
  {
   "cell_type": "code",
   "execution_count": 156,
   "metadata": {},
   "outputs": [],
   "source": [
    "class Hopfield:\n",
    "    def __init__(self, nb_neurons, weight_matrix=None):\n",
    "        self.nb_neurons = nb_neurons\n",
    "        self.neurons = np.zeros(nb_neurons)\n",
    "        if weight_matrix is None:\n",
    "            self.weights = np.zeros((nb_neurons, nb_neurons))\n",
    "        else:\n",
    "            self.weights = weight_matrix\n",
    "    \n",
    "    def clamp(self, sample):\n",
    "        assert sample.shape == self.neurons.shape\n",
    "        self.neurons = sample\n",
    "\n",
    "    def state(self):\n",
    "        return self.neurons\n",
    "\n",
    "    def restart_learning(self):\n",
    "        self.weights = np.zeros((self.nb_neurons, self.nb_neurons))\n",
    "\n",
    "    # Warning /!\\ keep old values of self.weights\n",
    "    # If need to restart learning, use restart_learning function\n",
    "    def hebbian_learning(self, patterns):\n",
    "        for i in range(self.nb_neurons):\n",
    "            for j in range(self.nb_neurons):\n",
    "                if i != j:\n",
    "                    for p in patterns:\n",
    "                        self.weights[i][j] += p[i] * p[j]\n",
    "                    self.weights[i][j] /= self.nb_neurons\n",
    "    \n",
    "    def asynchronous_recall(self, pattern, nb_iterations):\n",
    "        self.clamp(pattern)\n",
    "        energies = list()\n",
    "        neurons_to_update = np.random.randint(self.nb_neurons, size=nb_iterations)\n",
    "        for update in neurons_to_update:\n",
    "            self.neurons[update] = 1 if pattern @ self.weights[update] >= 0 else -1\n",
    "            energies.append(self.energy(self.state()))   \n",
    "        return energies\n",
    "\n",
    "    def little_model_recall(self, pattern, nb_iterations):\n",
    "        self.clamp(pattern)\n",
    "        for _ in range(nb_iterations):\n",
    "            for i in range(self.nb_neurons):\n",
    "                self.neurons[i] = 1 if pattern @ self.weights[i] >= 0 else -1\n",
    "\n",
    "    def energy(self, p):\n",
    "        return - p @ self.weights @ p.T\n"
   ]
  },
  {
   "cell_type": "code",
   "execution_count": 143,
   "metadata": {},
   "outputs": [
    {
     "name": "stdout",
     "output_type": "stream",
     "text": [
      "[0 1 0 1 0 1 0 0 0 1]\n"
     ]
    },
    {
     "data": {
      "text/plain": [
       "4.0"
      ]
     },
     "execution_count": 143,
     "metadata": {},
     "output_type": "execute_result"
    }
   ],
   "source": [
    "a = np.random.randint(2, size=10)\n",
    "t = -0.4\n",
    "b = 1 if t > 0 else -1\n",
    "\n",
    "b = np.ones(10)\n",
    "\n",
    "print(a)\n",
    "\n",
    "a @ b\n"
   ]
  },
  {
   "cell_type": "markdown",
   "metadata": {},
   "source": [
    "### 3.1 Convergence and attractors"
   ]
  },
  {
   "cell_type": "code",
   "execution_count": 144,
   "metadata": {},
   "outputs": [],
   "source": [
    "x1 = [-1, -1, 1, -1, 1, -1, -1, 1]\n",
    "x2 = [-1, -1, -1, -1, -1, 1, -1, -1]\n",
    "x3 = [-1, 1, 1, -1, -1, 1, -1, 1]\n",
    "\n",
    "patterns = np.vstack((x1, x2, x3))"
   ]
  },
  {
   "cell_type": "code",
   "execution_count": 145,
   "metadata": {},
   "outputs": [
    {
     "name": "stdout",
     "output_type": "stream",
     "text": [
      "Test on learned patterns\n",
      "Pattern 0 recalled\n",
      "Pattern 1 recalled\n",
      "Pattern 2 recalled\n",
      "\n",
      "Test on noisy patterns\n",
      "Pattern 0 recalled\n",
      "--> Error!\n",
      "pattern : [-1 -1 -1 -1 -1  1 -1 -1]\n",
      "recall : [ 1  1 -1  1 -1  1  1 -1]\n",
      "-------\n",
      "--> Error!\n",
      "pattern : [-1  1  1 -1 -1  1 -1  1]\n",
      "recall : [-1 -1  1 -1  1 -1 -1  1]\n",
      "-------\n",
      "\n"
     ]
    }
   ],
   "source": [
    "dim = patterns.shape[1]\n",
    "\n",
    "net = Hopfield(dim)\n",
    "\n",
    "net.hebbian_learning(patterns)\n",
    "\n",
    "# Test recall patterns\n",
    "print('Test on learned patterns')\n",
    "for i, p in enumerate(patterns):\n",
    "    net.asynchronous_recall(p, 5)\n",
    "    if np.sum(p != net.state()) != 0:\n",
    "        print('--> Error!')\n",
    "        print(f'pattern : {p}')\n",
    "        print(f'recall : {net.state()}')\n",
    "        print('-------')\n",
    "    else:\n",
    "        print(f'Pattern {i} recalled')\n",
    "print()\n",
    "\n",
    "# Noisy patterns\n",
    "x1d = np.array([1, -1, 1, -1, 1, -1, -1, 1])\n",
    "x2d = np.array([1, 1, -1, -1, -1, 1, -1, -1])\n",
    "x3d = np.array([1, 1, 1, -1, 1, 1, -1, 1])\n",
    "noisy_patterns = np.vstack((x1d, x2d, x3d))\n",
    "# Test recall patterns\n",
    "print('Test on noisy patterns')\n",
    "for i, p in enumerate(noisy_patterns):\n",
    "    net.asynchronous_recall(p, 1000)\n",
    "    if np.sum(patterns[i] != net.state()) != 0:\n",
    "        print('--> Error!')\n",
    "        print(f'pattern : {patterns[i]}')\n",
    "        print(f'recall : {net.state()}')\n",
    "        print('-------')\n",
    "    else:\n",
    "        print(f'Pattern {i} recalled')\n",
    "print()\n"
   ]
  },
  {
   "cell_type": "markdown",
   "metadata": {},
   "source": [
    "### 3.2 Sequential update"
   ]
  },
  {
   "cell_type": "code",
   "execution_count": 146,
   "metadata": {},
   "outputs": [
    {
     "data": {
      "text/plain": [
       "(11, 1024)"
      ]
     },
     "execution_count": 146,
     "metadata": {},
     "output_type": "execute_result"
    }
   ],
   "source": [
    "# Extracting patterns from pict.dat\n",
    "\n",
    "# Open the file for reading\n",
    "file_path = \"pict.dat\"\n",
    "with open(file_path, \"r\") as file:\n",
    "    # Read the entire content of the file\n",
    "    content = file.read()\n",
    "\n",
    "patterns = list()\n",
    "pattern_size = 1024\n",
    "\n",
    "current_pattern = list()\n",
    "reading_index = 0\n",
    "while reading_index < len(content):\n",
    "    if content[reading_index] == '1':\n",
    "        current_pattern.append(1)\n",
    "    elif content[reading_index] == '-':\n",
    "        current_pattern.append(-1)\n",
    "        reading_index += 1\n",
    "    if len(current_pattern) == pattern_size:\n",
    "        patterns.append(current_pattern)\n",
    "        current_pattern = list()\n",
    "    reading_index+=2\n",
    "\n",
    "patterns = np.array(patterns)\n",
    "patterns.shape"
   ]
  },
  {
   "cell_type": "code",
   "execution_count": 147,
   "metadata": {},
   "outputs": [
    {
     "data": {
      "text/plain": [
       "<matplotlib.image.AxesImage at 0x7f1ef81d4b50>"
      ]
     },
     "execution_count": 147,
     "metadata": {},
     "output_type": "execute_result"
    },
    {
     "data": {
      "image/png": "[encoded data removed]",
      "text/plain": [
       "<Figure size 432x288 with 1 Axes>"
      ]
     },
     "metadata": {
      "needs_background": "light"
     },
     "output_type": "display_data"
    }
   ],
   "source": [
    "# Look at pattern 6 as an image\n",
    "p6 = patterns[5]    # index is number - 1 !\n",
    "\n",
    "image_p6 = p6.reshape((32, 32))\n",
    "plt.imshow(image_p6, cmap='gray')  # 'cmap' sets the colormap (gray for grayscale)"
   ]
  },
  {
   "cell_type": "code",
   "execution_count": 148,
   "metadata": {},
   "outputs": [],
   "source": [
    "# Learning the 3 first\n",
    "\n",
    "dim = patterns.shape[1]\n",
    "\n",
    "net = Hopfield(dim)\n",
    "\n",
    "net.hebbian_learning(patterns[:3])"
   ]
  },
  {
   "cell_type": "code",
   "execution_count": 149,
   "metadata": {},
   "outputs": [
    {
     "name": "stdout",
     "output_type": "stream",
     "text": [
      "Test on learned patterns\n",
      "Pattern 0 recalled\n",
      "Pattern 1 recalled\n",
      "Pattern 2 recalled\n"
     ]
    }
   ],
   "source": [
    "# Test recall 3 first patterns\n",
    "print('Test on learned patterns')\n",
    "for i, p in enumerate(patterns[:3]):\n",
    "    net.asynchronous_recall(p.copy(), 5)\n",
    "    if np.sum(p != net.state()) != 0:\n",
    "        print('--> Error!')\n",
    "        print(f'pattern : {p}')\n",
    "        print(f'recall : {net.state()}')\n",
    "        print('-------')\n",
    "    else:\n",
    "        print(f'Pattern {i} recalled')"
   ]
  },
  {
   "cell_type": "code",
   "execution_count": 150,
   "metadata": {},
   "outputs": [
    {
     "name": "stdout",
     "output_type": "stream",
     "text": [
      "Test on learned patterns\n",
      "Pattern before recall\n"
     ]
    },
    {
     "data": {
      "image/png": "[encoded data removed]",
      "text/plain": [
       "<Figure size 432x288 with 1 Axes>"
      ]
     },
     "metadata": {
      "needs_background": "light"
     },
     "output_type": "display_data"
    },
    {
     "name": "stdout",
     "output_type": "stream",
     "text": [
      "Pattern after asynchronous recall\n"
     ]
    },
    {
     "data": {
      "image/png": "[encoded data removed]",
      "text/plain": [
       "<Figure size 432x288 with 1 Axes>"
      ]
     },
     "metadata": {
      "needs_background": "light"
     },
     "output_type": "display_data"
    },
    {
     "name": "stdout",
     "output_type": "stream",
     "text": [
      "Pattern after little model recall\n"
     ]
    },
    {
     "data": {
      "image/png": "[encoded data removed]",
      "text/plain": [
       "<Figure size 432x288 with 1 Axes>"
      ]
     },
     "metadata": {
      "needs_background": "light"
     },
     "output_type": "display_data"
    },
    {
     "name": "stdout",
     "output_type": "stream",
     "text": [
      "----------------------------------------------------\n",
      "Pattern before recall\n"
     ]
    },
    {
     "data": {
      "image/png": "[encoded data removed]",
      "text/plain": [
       "<Figure size 432x288 with 1 Axes>"
      ]
     },
     "metadata": {
      "needs_background": "light"
     },
     "output_type": "display_data"
    },
    {
     "name": "stdout",
     "output_type": "stream",
     "text": [
      "Pattern after asynchronous recall\n"
     ]
    },
    {
     "data": {
      "image/png": "[encoded data removed]",
      "text/plain": [
       "<Figure size 432x288 with 1 Axes>"
      ]
     },
     "metadata": {
      "needs_background": "light"
     },
     "output_type": "display_data"
    },
    {
     "name": "stdout",
     "output_type": "stream",
     "text": [
      "Pattern after little model recall\n"
     ]
    },
    {
     "data": {
      "image/png": "[encoded data removed]",
      "text/plain": [
       "<Figure size 432x288 with 1 Axes>"
      ]
     },
     "metadata": {
      "needs_background": "light"
     },
     "output_type": "display_data"
    },
    {
     "name": "stdout",
     "output_type": "stream",
     "text": [
      "----------------------------------------------------\n"
     ]
    }
   ],
   "source": [
    "nb_LM_recall = 5\n",
    "nb_iter_asynchronous_recall = 32*32*nb_LM_recall\n",
    "\n",
    "# Test recall on patterns 10 and 11\n",
    "print('Test on learned patterns')\n",
    "for i, p in enumerate(patterns[9:]):\n",
    "    print('Pattern before recall')\n",
    "    p_reshape = p.reshape((32, 32))\n",
    "    plt.imshow(p_reshape, cmap='gray') \n",
    "    plt.show()\n",
    "\n",
    "    net.asynchronous_recall(p.copy(), nb_iter_asynchronous_recall)\n",
    "    print('Pattern after asynchronous recall')\n",
    "    p_reshape = net.state().reshape((32, 32))\n",
    "    plt.imshow(p_reshape, cmap='gray')\n",
    "    plt.show()\n",
    "\n",
    "    net.little_model_recall(p.copy(), nb_LM_recall)\n",
    "    print('Pattern after little model recall')\n",
    "    p_reshape = net.state().reshape((32, 32))\n",
    "    plt.imshow(p_reshape, cmap='gray')\n",
    "    plt.show()\n",
    "\n",
    "    print('----------------------------------------------------')\n",
    "\n",
    "    "
   ]
  },
  {
   "cell_type": "markdown",
   "metadata": {},
   "source": [
    "The pattern 11 is recalled into pattern 3 for asynchronous and 2 for synchronous! Does not converge for pattern 10. Global convergence faster? No if we concider than 1 iteration of Little Model is 32*32 iterations of the other model."
   ]
  },
  {
   "cell_type": "markdown",
   "metadata": {},
   "source": [
    "### 3.3 Energy"
   ]
  },
  {
   "cell_type": "code",
   "execution_count": 129,
   "metadata": {},
   "outputs": [
    {
     "name": "stdout",
     "output_type": "stream",
     "text": [
      "-1436.390625\n",
      "-1362.640625\n",
      "-1459.25\n",
      "-170.5\n"
     ]
    }
   ],
   "source": [
    "print(net.energy(patterns[0]))\n",
    "print(net.energy(patterns[1]))\n",
    "print(net.energy(patterns[2]))\n",
    "\n",
    "print(net.energy(patterns[10]))\n"
   ]
  },
  {
   "cell_type": "code",
   "execution_count": 131,
   "metadata": {},
   "outputs": [
    {
     "data": {
      "text/plain": [
       "[<matplotlib.lines.Line2D at 0x7f1eef2b88b0>]"
      ]
     },
     "execution_count": 131,
     "metadata": {},
     "output_type": "execute_result"
    },
    {
     "data": {
      "image/png": "[encoded data removed]",
      "text/plain": [
       "<Figure size 432x288 with 1 Axes>"
      ]
     },
     "metadata": {
      "needs_background": "light"
     },
     "output_type": "display_data"
    }
   ],
   "source": [
    "# On pattern 11\n",
    "energies = net.asynchronous_recall(patterns[10].copy(), 10000)\n",
    "plt.plot(list(range(len(energies))), energies)"
   ]
  },
  {
   "cell_type": "code",
   "execution_count": 157,
   "metadata": {},
   "outputs": [
    {
     "data": {
      "text/plain": [
       "[<matplotlib.lines.Line2D at 0x7f1eee837e80>]"
      ]
     },
     "execution_count": 157,
     "metadata": {},
     "output_type": "execute_result"
    },
    {
     "data": {
      "image/png": "[encoded data removed]",
      "text/plain": [
       "<Figure size 432x288 with 1 Axes>"
      ]
     },
     "metadata": {
      "needs_background": "light"
     },
     "output_type": "display_data"
    }
   ],
   "source": [
    "weight_matrix = np.random.randn(1024, 1024)\n",
    "random_pattern = 2*np.random.randint(2, size=1024) - 1\n",
    "\n",
    "test_net = Hopfield(1024, weight_matrix=weight_matrix)\n",
    "\n",
    "# On pattern 11\n",
    "energies = test_net.asynchronous_recall(random_pattern, 10000)\n",
    "plt.plot(list(range(len(energies))), energies)"
   ]
  },
  {
   "cell_type": "markdown",
   "metadata": {},
   "source": [
    "It explores the energy space, trying to find a local minima. As the weights are random, the energy space is chaotic."
   ]
  },
  {
   "cell_type": "code",
   "execution_count": 158,
   "metadata": {},
   "outputs": [
    {
     "data": {
      "text/plain": [
       "[<matplotlib.lines.Line2D at 0x7f1ef81f9090>]"
      ]
     },
     "execution_count": 158,
     "metadata": {},
     "output_type": "execute_result"
    },
    {
     "data": {
      "image/png": "[encoded data removed]",
      "text/plain": [
       "<Figure size 432x288 with 1 Axes>"
      ]
     },
     "metadata": {
      "needs_background": "light"
     },
     "output_type": "display_data"
    }
   ],
   "source": [
    "weight_matrix = np.random.randn(1024, 1024)\n",
    "# Make it symetric\n",
    "weight_matrix = 0.5 * (weight_matrix + weight_matrix.T)\n",
    "\n",
    "random_pattern = 2*np.random.randint(2, size=1024) - 1\n",
    "\n",
    "test_net = Hopfield(1024, weight_matrix=weight_matrix)\n",
    "\n",
    "# On pattern 11\n",
    "energies = test_net.asynchronous_recall(random_pattern, 10000)\n",
    "plt.plot(list(range(len(energies))), energies)"
   ]
  },
  {
   "cell_type": "markdown",
   "metadata": {},
   "source": [
    "Now the edges of the Hopfield network are bidirectional. Energy landscape is good."
   ]
  },
  {
   "cell_type": "code",
   "execution_count": null,
   "metadata": {},
   "outputs": [],
   "source": []
  }
 ],
 "metadata": {
  "kernelspec": {
   "display_name": "Python 3.10.12 64-bit",
   "language": "python",
   "name": "python3"
  },
  "language_info": {
   "codemirror_mode": {
    "name": "ipython",
    "version": 3
   },
   "file_extension": ".py",
   "mimetype": "text/x-python",
   "name": "python",
   "nbconvert_exporter": "python",
   "pygments_lexer": "ipython3",
   "version": "3.10.12"
  },
  "orig_nbformat": 4,
  "vscode": {
   "interpreter": {
    "hash": "e7370f93d1d0cde622a1f8e1c04877d8463912d04d973331ad4851f04de6915a"
   }
  }
 },
 "nbformat": 4,
 "nbformat_minor": 2
}
