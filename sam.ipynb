{
 "cells": [
  {
   "cell_type": "code",
   "execution_count": 1,
   "metadata": {},
   "outputs": [],
   "source": [
    "import numpy as np"
   ]
  },
  {
   "cell_type": "markdown",
   "metadata": {},
   "source": [
    "### 3.1.3 Classification of samples that are not linearly separable"
   ]
  },
  {
   "cell_type": "code",
   "execution_count": 2,
   "metadata": {},
   "outputs": [
    {
     "data": {
      "text/plain": [
       "((3, 100),\n",
       " array([[4.99407411, 5.6883762 , 5.61182063, 5.57728463, 6.65937099],\n",
       "        [1.35475464, 1.91923216, 2.59965538, 2.18097419, 0.38894762],\n",
       "        [0.        , 0.        , 0.        , 0.        , 0.        ]]))"
      ]
     },
     "execution_count": 2,
     "metadata": {},
     "output_type": "execute_result"
    }
   ],
   "source": [
    "n = 100\n",
    "\n",
    "# label a\n",
    "mA = [5, 2]\n",
    "sigma = 0.5\n",
    "aX1 = np.random.normal(mA[0], sigma, n)\n",
    "aX2 = np.random.normal(mA[1], sigma, n)\n",
    "a = np.vstack((aX1, aX2, np.zeros(n)))\n",
    "a.shape, a[:,:5]"
   ]
  },
  {
   "cell_type": "code",
   "execution_count": 3,
   "metadata": {},
   "outputs": [
    {
     "data": {
      "text/plain": [
       "((3, 100),\n",
       " array([[19.26400155, 19.53396902, 20.53842031, 20.35282382, 20.88808751],\n",
       "        [19.88228527, 18.75950305, 18.79216944, 21.2248705 , 20.22410184],\n",
       "        [ 1.        ,  1.        ,  1.        ,  1.        ,  1.        ]]))"
      ]
     },
     "execution_count": 3,
     "metadata": {},
     "output_type": "execute_result"
    }
   ],
   "source": [
    "# label b\n",
    "mB = [20, 20]\n",
    "bX1 = np.random.normal(mB[0], sigma, n)\n",
    "bX2 = np.random.normal(mB[1], sigma, n)\n",
    "b = np.vstack((bX1, bX2, np.ones(n)))\n",
    "b.shape, b[:,:5]"
   ]
  },
  {
   "cell_type": "code",
   "execution_count": 4,
   "metadata": {},
   "outputs": [
    {
     "data": {
      "text/plain": [
       "<matplotlib.collections.PathCollection at 0x7f03859c8dd0>"
      ]
     },
     "execution_count": 4,
     "metadata": {},
     "output_type": "execute_result"
    },
    {
     "data": {
      "image/png": "[encoded data removed]",
      "text/plain": [
       "<Figure size 640x480 with 1 Axes>"
      ]
     },
     "metadata": {},
     "output_type": "display_data"
    }
   ],
   "source": [
    "import matplotlib.pyplot as plt\n",
    "plt.scatter(aX1, aX2, c='b', label='a', marker='o')\n",
    "plt.scatter(bX1, bX2, c='r', label='b', marker='x')"
   ]
  },
  {
   "attachments": {
    "image.png": {
     "image/png": "[encoded data removed]"
    }
   },
   "cell_type": "markdown",
   "metadata": {},
   "source": [
    "![image.png](attachment:image.png)"
   ]
  },
  {
   "cell_type": "code",
   "execution_count": 5,
   "metadata": {},
   "outputs": [
    {
     "data": {
      "text/plain": [
       "(array([[4.99407411, 5.6883762 , 5.61182063, 5.57728463, 6.65937099],\n",
       "        [1.35475464, 1.91923216, 2.59965538, 2.18097419, 0.38894762],\n",
       "        [0.        , 0.        , 0.        , 0.        , 0.        ]]),\n",
       " (3, 200))"
      ]
     },
     "execution_count": 5,
     "metadata": {},
     "output_type": "execute_result"
    }
   ],
   "source": [
    "dataset = np.hstack((a,b))\n",
    "dataset[:,:5], dataset.shape"
   ]
  },
  {
   "cell_type": "code",
   "execution_count": 6,
   "metadata": {},
   "outputs": [
    {
     "data": {
      "text/plain": [
       "array([[ 5.60061129,  4.87646503, 21.21647869,  4.06066552, 20.39814109],\n",
       "       [ 2.32815972, 20.01953154, 19.95971653, 20.23986505,  0.38894762],\n",
       "       [ 1.        ,  1.        ,  1.        ,  0.        ,  0.        ]])"
      ]
     },
     "execution_count": 6,
     "metadata": {},
     "output_type": "execute_result"
    }
   ],
   "source": [
    "# shuffling the dataset horizontally...\n",
    "rng = np.random.default_rng()\n",
    "dataset = rng.permuted(dataset, axis=1)\n",
    "dataset[:,:5]"
   ]
  },
  {
   "cell_type": "code",
   "execution_count": 7,
   "metadata": {},
   "outputs": [
    {
     "data": {
      "text/plain": [
       "((4, 200),\n",
       " array([[ 1.        ,  1.        ,  1.        ,  1.        ,  1.        ],\n",
       "        [ 5.60061129,  4.87646503, 21.21647869,  4.06066552, 20.39814109],\n",
       "        [ 2.32815972, 20.01953154, 19.95971653, 20.23986505,  0.38894762],\n",
       "        [ 1.        ,  1.        ,  1.        ,  0.        ,  0.        ]]))"
      ]
     },
     "execution_count": 7,
     "metadata": {},
     "output_type": "execute_result"
    }
   ],
   "source": [
    "dataset = np.vstack((np.ones(2*n), dataset))\n",
    "dataset.shape, dataset[:,:5]"
   ]
  },
  {
   "cell_type": "code",
   "execution_count": 8,
   "metadata": {},
   "outputs": [
    {
     "data": {
      "text/plain": [
       "((3, 200), (200,))"
      ]
     },
     "execution_count": 8,
     "metadata": {},
     "output_type": "execute_result"
    }
   ],
   "source": [
    "X_train = dataset[:3,:]\n",
    "y_train = dataset[3,:]\n",
    "X_train.shape, y_train.shape"
   ]
  },
  {
   "cell_type": "markdown",
   "metadata": {},
   "source": [
    "The weights are stored in matrix W with as many columns as the dimensionality of the input patterns and with the number of rows matching the number of the\n",
    "outputs (dimensionality of the output)."
   ]
  },
  {
   "cell_type": "markdown",
   "metadata": {},
   "source": [
    "----------"
   ]
  },
  {
   "cell_type": "markdown",
   "metadata": {},
   "source": [
    "### Part 1\n",
    "Apply and compare perceptron learning and the delta rules using either batch or sequential learning mode, similarly as in the previous exercise (p.1, section 3.1.2).\n",
    "\n",
    "**Perceptron Learning Principle**: weights are changed whenever a pattern is misclassified"
   ]
  },
  {
   "cell_type": "markdown",
   "metadata": {},
   "source": [
    "### Example (1x epoch)\n",
    "--------------"
   ]
  },
  {
   "cell_type": "markdown",
   "metadata": {},
   "source": [
    "1) initialize the weights"
   ]
  },
  {
   "cell_type": "code",
   "execution_count": 9,
   "metadata": {},
   "outputs": [
    {
     "data": {
      "text/plain": [
       "(array([ 0. ,  0.2, -0.5]), (3,))"
      ]
     },
     "execution_count": 9,
     "metadata": {},
     "output_type": "execute_result"
    }
   ],
   "source": [
    "w0 = 0\n",
    "w1 = 0.2\n",
    "w2 = -0.5\n",
    "W = np.array([w0, w1, w2])\n",
    "W, W.shape"
   ]
  },
  {
   "cell_type": "markdown",
   "metadata": {},
   "source": [
    "2) initialize the learning rate"
   ]
  },
  {
   "cell_type": "code",
   "execution_count": 10,
   "metadata": {},
   "outputs": [],
   "source": [
    "learning_rate = 0.1"
   ]
  },
  {
   "cell_type": "code",
   "execution_count": 11,
   "metadata": {},
   "outputs": [
    {
     "data": {
      "text/plain": [
       "array([[ 1.        ,  1.        ,  1.        ,  1.        ,  1.        ],\n",
       "       [ 5.60061129,  4.87646503, 21.21647869,  4.06066552, 20.39814109],\n",
       "       [ 2.32815972, 20.01953154, 19.95971653, 20.23986505,  0.38894762]])"
      ]
     },
     "execution_count": 11,
     "metadata": {},
     "output_type": "execute_result"
    }
   ],
   "source": [
    "X_train[:,:5]"
   ]
  },
  {
   "cell_type": "code",
   "execution_count": 12,
   "metadata": {},
   "outputs": [
    {
     "data": {
      "text/plain": [
       "array([1., 1., 1., 0., 0., 0., 0., 0., 1., 0.])"
      ]
     },
     "execution_count": 12,
     "metadata": {},
     "output_type": "execute_result"
    }
   ],
   "source": [
    "y_train[:10]"
   ]
  },
  {
   "cell_type": "markdown",
   "metadata": {},
   "source": [
    "3) compute predictions"
   ]
  },
  {
   "cell_type": "code",
   "execution_count": 18,
   "metadata": {},
   "outputs": [
    {
     "name": "stdout",
     "output_type": "stream",
     "text": [
      "prediction for the first sample is: -0.04395760468283516\n",
      "sample 1 is predicted as 0\n"
     ]
    }
   ],
   "source": [
    "prediction = W @ X_train[:,0]\n",
    "print(\"prediction for the first sample is: {}\".format(prediction))\n",
    "if (prediction > 0):\n",
    "    prediction = 1\n",
    "else:\n",
    "    prediction = 0\n",
    "print(\"sample 1 is predicted as {}\".format(prediction))"
   ]
  },
  {
   "cell_type": "code",
   "execution_count": 14,
   "metadata": {},
   "outputs": [
    {
     "data": {
      "text/plain": [
       "((200,), array([0, 0, 0, 0, 1, 0, 1, 1, 0, 0, 0, 0, 0, 1, 0]))"
      ]
     },
     "execution_count": 14,
     "metadata": {},
     "output_type": "execute_result"
    }
   ],
   "source": [
    "predictions = np.array((W @ X_train) > 0, dtype=int)\n",
    "predictions.shape, predictions[:15]"
   ]
  },
  {
   "cell_type": "markdown",
   "metadata": {},
   "source": [
    "4) compute updates"
   ]
  },
  {
   "cell_type": "code",
   "execution_count": 22,
   "metadata": {},
   "outputs": [
    {
     "name": "stdout",
     "output_type": "stream",
     "text": [
      "error is: 1.0\n"
     ]
    }
   ],
   "source": [
    "e_sample = y_train[0] - prediction\n",
    "print(\"error is: {}\".format(e_sample))"
   ]
  },
  {
   "cell_type": "code",
   "execution_count": 23,
   "metadata": {},
   "outputs": [
    {
     "data": {
      "text/plain": [
       "((200,), array([ 1.,  1.,  1.,  0., -1.,  0., -1., -1.,  1.,  0.]))"
      ]
     },
     "execution_count": 23,
     "metadata": {},
     "output_type": "execute_result"
    }
   ],
   "source": [
    "e = y_train - predictions\n",
    "e.shape, e[:10]"
   ]
  },
  {
   "cell_type": "code",
   "execution_count": 24,
   "metadata": {},
   "outputs": [
    {
     "data": {
      "text/plain": [
       "((3, 200),\n",
       " array([[ 1.        ,  1.        ,  1.        ,  1.        ,  1.        ],\n",
       "        [ 5.60061129,  4.87646503, 21.21647869,  4.06066552, 20.39814109],\n",
       "        [ 2.32815972, 20.01953154, 19.95971653, 20.23986505,  0.38894762]]))"
      ]
     },
     "execution_count": 24,
     "metadata": {},
     "output_type": "execute_result"
    }
   ],
   "source": [
    "X_train.shape, X_train[:, :5]"
   ]
  },
  {
   "cell_type": "code",
   "execution_count": 27,
   "metadata": {},
   "outputs": [
    {
     "name": "stdout",
     "output_type": "stream",
     "text": [
      "updates due to sample 0 are [0.1        0.56006113 0.23281597], (3,)\n"
     ]
    }
   ],
   "source": [
    "dW_sample = learning_rate * e_sample * X_train[:, 0] \n",
    "print(\"updates due to sample 0 are {}, {}\".format(dW_sample, dW_sample.shape))"
   ]
  },
  {
   "cell_type": "code",
   "execution_count": 28,
   "metadata": {},
   "outputs": [
    {
     "data": {
      "text/plain": [
       "((3,), array([  2.1      ,  11.519406 , 103.8845852]))"
      ]
     },
     "execution_count": 28,
     "metadata": {},
     "output_type": "execute_result"
    }
   ],
   "source": [
    "dW = learning_rate * (e @ X_train.T)\n",
    "dW.shape, dW # should be all the updates for an epoch summed"
   ]
  },
  {
   "cell_type": "code",
   "execution_count": 391,
   "metadata": {},
   "outputs": [
    {
     "data": {
      "text/plain": [
       "array([ 2.5       ,  4.57152169, 91.90794381])"
      ]
     },
     "execution_count": 391,
     "metadata": {},
     "output_type": "execute_result"
    }
   ],
   "source": [
    "W_new = W + dW\n",
    "W_new"
   ]
  },
  {
   "cell_type": "markdown",
   "metadata": {},
   "source": [
    "---------"
   ]
  },
  {
   "cell_type": "code",
   "execution_count": 55,
   "metadata": {},
   "outputs": [],
   "source": [
    "class PerceptronLearningClassifier:\n",
    "    def __init__(self, learning_rate):\n",
    "        self.W = np.array([0,0.2,-0.5])\n",
    "        self.learning_rate = learning_rate\n",
    "\n",
    "    def predict(self, X):\n",
    "        #print(np.array((self.W @ X) > 0, dtype=int))\n",
    "        return np.array((self.W @ X) > 0, dtype=int)\n",
    "\n",
    "    def fit(self, X, y, n_epochs):\n",
    "        for i in range(0, n_epochs):\n",
    "            predictions = self.predict(X)\n",
    "            #print(predictions[:15])\n",
    "            e = y_train - predictions\n",
    "            #print(e[:10])\n",
    "            dW = self.learning_rate * (e @ X.T)\n",
    "            #print(dW)\n",
    "            self.W += dW\n",
    "\n",
    "    def fit_one_epoch(self, X, y):\n",
    "        nErrors = 0\n",
    "        for i in range(0, X.shape[1]):\n",
    "        # for i in range(0, 1):\n",
    "            # print(\"datapoint: \" + str(X[:,i]))\n",
    "            # print(\"weigths: \" + str(self.W))\n",
    "            # print(\"result \" + str(self.W @ X[:,i]))\n",
    "            # print(\"label \" + str(y[i]))\n",
    "            prediction = np.array((self.W @ X[:,i]) > 0, dtype=int)\n",
    "            # print(\"prediction for result \" + str(prediction))\n",
    "            # print(\"\\n\")\n",
    "            e = y[i] - prediction\n",
    "            if (e != 0):\n",
    "                nErrors += 1\n",
    "            # print(\"so error: \" + str(e))\n",
    "            dW = self.learning_rate * (e * X[:,i])\n",
    "            # print(\"deltaW\" + str(dW))\n",
    "            self.W = self.W + dW\n",
    "            # print(\"new weights \" + str(self.W))\n",
    "            # print(\"--------\")\n",
    "        print(\"Errors this epoch:\" + str(nErrors))"
   ]
  },
  {
   "cell_type": "code",
   "execution_count": 56,
   "metadata": {},
   "outputs": [],
   "source": [
    "p = PerceptronLearningClassifier(0.001)"
   ]
  },
  {
   "cell_type": "code",
   "execution_count": 57,
   "metadata": {},
   "outputs": [
    {
     "data": {
      "text/plain": [
       "array([ 0. ,  0.2, -0.5])"
      ]
     },
     "execution_count": 57,
     "metadata": {},
     "output_type": "execute_result"
    }
   ],
   "source": [
    "p.W"
   ]
  },
  {
   "cell_type": "code",
   "execution_count": 58,
   "metadata": {},
   "outputs": [
    {
     "name": "stdout",
     "output_type": "stream",
     "text": [
      "Errors this epoch:101\n"
     ]
    }
   ],
   "source": [
    "p.fit_one_epoch(X_train, y_train)\n"
   ]
  },
  {
   "cell_type": "code",
   "execution_count": 59,
   "metadata": {},
   "outputs": [
    {
     "data": {
      "text/plain": [
       "array([-0.007     , -0.01772253, -0.00781432])"
      ]
     },
     "execution_count": 59,
     "metadata": {},
     "output_type": "execute_result"
    }
   ],
   "source": [
    "p.W"
   ]
  },
  {
   "cell_type": "code",
   "execution_count": 61,
   "metadata": {},
   "outputs": [
    {
     "name": "stdout",
     "output_type": "stream",
     "text": [
      "Errors this epoch:92\n",
      "Errors this epoch:89\n",
      "Errors this epoch:101\n",
      "Errors this epoch:105\n",
      "Errors this epoch:98\n",
      "Errors this epoch:88\n",
      "Errors this epoch:87\n",
      "Errors this epoch:99\n",
      "Errors this epoch:87\n",
      "Errors this epoch:92\n",
      "Errors this epoch:92\n",
      "Errors this epoch:98\n",
      "Errors this epoch:97\n",
      "Errors this epoch:95\n",
      "Errors this epoch:92\n",
      "Errors this epoch:96\n",
      "Errors this epoch:95\n",
      "Errors this epoch:88\n",
      "Errors this epoch:92\n",
      "Errors this epoch:92\n",
      "Errors this epoch:92\n",
      "Errors this epoch:94\n",
      "Errors this epoch:92\n",
      "Errors this epoch:92\n",
      "Errors this epoch:92\n",
      "Errors this epoch:90\n",
      "Errors this epoch:93\n",
      "Errors this epoch:90\n",
      "Errors this epoch:92\n",
      "Errors this epoch:94\n",
      "Errors this epoch:88\n",
      "Errors this epoch:97\n",
      "Errors this epoch:99\n",
      "Errors this epoch:94\n",
      "Errors this epoch:93\n",
      "Errors this epoch:94\n",
      "Errors this epoch:95\n",
      "Errors this epoch:94\n",
      "Errors this epoch:89\n",
      "Errors this epoch:93\n",
      "Errors this epoch:102\n",
      "Errors this epoch:95\n",
      "Errors this epoch:103\n",
      "Errors this epoch:90\n",
      "Errors this epoch:91\n",
      "Errors this epoch:90\n",
      "Errors this epoch:87\n",
      "Errors this epoch:94\n",
      "Errors this epoch:93\n",
      "Errors this epoch:98\n",
      "Errors this epoch:98\n",
      "Errors this epoch:95\n",
      "Errors this epoch:92\n",
      "Errors this epoch:92\n",
      "Errors this epoch:92\n",
      "Errors this epoch:94\n",
      "Errors this epoch:93\n",
      "Errors this epoch:90\n",
      "Errors this epoch:92\n",
      "Errors this epoch:92\n",
      "Errors this epoch:94\n",
      "Errors this epoch:93\n",
      "Errors this epoch:98\n",
      "Errors this epoch:91\n",
      "Errors this epoch:92\n",
      "Errors this epoch:92\n",
      "Errors this epoch:94\n",
      "Errors this epoch:94\n",
      "Errors this epoch:92\n",
      "Errors this epoch:92\n",
      "Errors this epoch:94\n",
      "Errors this epoch:92\n",
      "Errors this epoch:102\n",
      "Errors this epoch:92\n",
      "Errors this epoch:90\n",
      "Errors this epoch:92\n",
      "Errors this epoch:92\n",
      "Errors this epoch:94\n",
      "Errors this epoch:97\n",
      "Errors this epoch:96\n",
      "Errors this epoch:93\n",
      "Errors this epoch:95\n",
      "Errors this epoch:94\n",
      "Errors this epoch:104\n",
      "Errors this epoch:98\n",
      "Errors this epoch:96\n",
      "Errors this epoch:100\n",
      "Errors this epoch:89\n",
      "Errors this epoch:102\n",
      "Errors this epoch:93\n",
      "Errors this epoch:91\n",
      "Errors this epoch:90\n",
      "Errors this epoch:92\n",
      "Errors this epoch:92\n",
      "Errors this epoch:94\n",
      "Errors this epoch:94\n",
      "Errors this epoch:92\n",
      "Errors this epoch:92\n",
      "Errors this epoch:92\n",
      "Errors this epoch:90\n",
      "Errors this epoch:94\n",
      "Errors this epoch:93\n",
      "Errors this epoch:101\n",
      "Errors this epoch:93\n",
      "Errors this epoch:93\n",
      "Errors this epoch:94\n",
      "Errors this epoch:103\n",
      "Errors this epoch:97\n",
      "Errors this epoch:96\n",
      "Errors this epoch:97\n",
      "Errors this epoch:93\n",
      "Errors this epoch:89\n",
      "Errors this epoch:92\n",
      "Errors this epoch:88\n",
      "Errors this epoch:96\n",
      "Errors this epoch:94\n",
      "Errors this epoch:103\n",
      "Errors this epoch:99\n",
      "Errors this epoch:90\n",
      "Errors this epoch:99\n",
      "Errors this epoch:89\n",
      "Errors this epoch:97\n",
      "Errors this epoch:94\n",
      "Errors this epoch:94\n",
      "Errors this epoch:93\n",
      "Errors this epoch:103\n",
      "Errors this epoch:99\n",
      "Errors this epoch:87\n",
      "Errors this epoch:99\n",
      "Errors this epoch:91\n",
      "Errors this epoch:92\n",
      "Errors this epoch:94\n",
      "Errors this epoch:91\n",
      "Errors this epoch:94\n",
      "Errors this epoch:99\n",
      "Errors this epoch:90\n",
      "Errors this epoch:107\n",
      "Errors this epoch:94\n",
      "Errors this epoch:94\n",
      "Errors this epoch:87\n",
      "Errors this epoch:103\n",
      "Errors this epoch:99\n",
      "Errors this epoch:90\n",
      "Errors this epoch:99\n",
      "Errors this epoch:91\n",
      "Errors this epoch:96\n",
      "Errors this epoch:94\n",
      "Errors this epoch:94\n",
      "Errors this epoch:99\n",
      "Errors this epoch:91\n",
      "Errors this epoch:96\n",
      "Errors this epoch:94\n",
      "Errors this epoch:102\n",
      "Errors this epoch:94\n",
      "Errors this epoch:87\n",
      "Errors this epoch:99\n",
      "Errors this epoch:87\n",
      "Errors this epoch:99\n",
      "Errors this epoch:91\n",
      "Errors this epoch:92\n",
      "Errors this epoch:89\n",
      "Errors this epoch:96\n",
      "Errors this epoch:95\n",
      "Errors this epoch:95\n",
      "Errors this epoch:92\n",
      "Errors this epoch:92\n",
      "Errors this epoch:87\n",
      "Errors this epoch:94\n",
      "Errors this epoch:95\n",
      "Errors this epoch:98\n",
      "Errors this epoch:93\n",
      "Errors this epoch:93\n",
      "Errors this epoch:93\n",
      "Errors this epoch:91\n",
      "Errors this epoch:101\n",
      "Errors this epoch:96\n",
      "Errors this epoch:87\n",
      "Errors this epoch:92\n",
      "Errors this epoch:99\n",
      "Errors this epoch:92\n",
      "Errors this epoch:94\n",
      "Errors this epoch:98\n",
      "Errors this epoch:96\n",
      "Errors this epoch:94\n",
      "Errors this epoch:100\n",
      "Errors this epoch:93\n",
      "Errors this epoch:94\n",
      "Errors this epoch:89\n",
      "Errors this epoch:92\n",
      "Errors this epoch:99\n",
      "Errors this epoch:94\n",
      "Errors this epoch:86\n",
      "Errors this epoch:98\n",
      "Errors this epoch:88\n",
      "Errors this epoch:99\n",
      "Errors this epoch:89\n",
      "Errors this epoch:99\n",
      "Errors this epoch:93\n",
      "Errors this epoch:93\n",
      "Errors this epoch:93\n",
      "Errors this epoch:95\n",
      "Errors this epoch:99\n",
      "Errors this epoch:96\n",
      "Errors this epoch:91\n",
      "Errors this epoch:91\n",
      "Errors this epoch:106\n",
      "Errors this epoch:97\n",
      "Errors this epoch:84\n",
      "Errors this epoch:98\n",
      "Errors this epoch:96\n",
      "Errors this epoch:91\n",
      "Errors this epoch:101\n",
      "Errors this epoch:90\n",
      "Errors this epoch:91\n",
      "Errors this epoch:102\n",
      "Errors this epoch:90\n",
      "Errors this epoch:91\n",
      "Errors this epoch:98\n",
      "Errors this epoch:93\n",
      "Errors this epoch:91\n",
      "Errors this epoch:97\n",
      "Errors this epoch:99\n",
      "Errors this epoch:92\n",
      "Errors this epoch:94\n",
      "Errors this epoch:98\n",
      "Errors this epoch:92\n",
      "Errors this epoch:92\n",
      "Errors this epoch:87\n",
      "Errors this epoch:94\n",
      "Errors this epoch:95\n",
      "Errors this epoch:89\n",
      "Errors this epoch:95\n",
      "Errors this epoch:89\n",
      "Errors this epoch:90\n",
      "Errors this epoch:102\n",
      "Errors this epoch:88\n",
      "Errors this epoch:92\n",
      "Errors this epoch:94\n",
      "Errors this epoch:90\n",
      "Errors this epoch:94\n",
      "Errors this epoch:97\n",
      "Errors this epoch:89\n",
      "Errors this epoch:92\n",
      "Errors this epoch:97\n",
      "Errors this epoch:91\n",
      "Errors this epoch:90\n",
      "Errors this epoch:92\n",
      "Errors this epoch:92\n",
      "Errors this epoch:95\n",
      "Errors this epoch:94\n",
      "Errors this epoch:94\n",
      "Errors this epoch:94\n",
      "Errors this epoch:102\n",
      "Errors this epoch:99\n",
      "Errors this epoch:89\n",
      "Errors this epoch:98\n",
      "Errors this epoch:92\n",
      "Errors this epoch:91\n",
      "Errors this epoch:101\n",
      "Errors this epoch:91\n",
      "Errors this epoch:92\n",
      "Errors this epoch:92\n",
      "Errors this epoch:94\n",
      "Errors this epoch:89\n",
      "Errors this epoch:92\n",
      "Errors this epoch:92\n",
      "Errors this epoch:92\n",
      "Errors this epoch:92\n",
      "Errors this epoch:90\n",
      "Errors this epoch:94\n",
      "Errors this epoch:90\n",
      "Errors this epoch:90\n",
      "Errors this epoch:102\n",
      "Errors this epoch:97\n",
      "Errors this epoch:99\n",
      "Errors this epoch:103\n",
      "Errors this epoch:91\n",
      "Errors this epoch:106\n",
      "Errors this epoch:94\n",
      "Errors this epoch:102\n",
      "Errors this epoch:97\n",
      "Errors this epoch:93\n",
      "Errors this epoch:97\n",
      "Errors this epoch:89\n",
      "Errors this epoch:92\n",
      "Errors this epoch:92\n",
      "Errors this epoch:97\n",
      "Errors this epoch:96\n",
      "Errors this epoch:93\n",
      "Errors this epoch:94\n",
      "Errors this epoch:104\n",
      "Errors this epoch:96\n",
      "Errors this epoch:94\n",
      "Errors this epoch:94\n",
      "Errors this epoch:92\n",
      "Errors this epoch:92\n",
      "Errors this epoch:94\n",
      "Errors this epoch:92\n",
      "Errors this epoch:89\n",
      "Errors this epoch:100\n",
      "Errors this epoch:100\n",
      "Errors this epoch:92\n",
      "Errors this epoch:95\n",
      "Errors this epoch:90\n",
      "Errors this epoch:92\n",
      "Errors this epoch:92\n",
      "Errors this epoch:92\n",
      "Errors this epoch:94\n",
      "Errors this epoch:95\n",
      "Errors this epoch:99\n",
      "Errors this epoch:95\n",
      "Errors this epoch:94\n",
      "Errors this epoch:98\n",
      "Errors this epoch:96\n",
      "Errors this epoch:92\n",
      "Errors this epoch:97\n",
      "Errors this epoch:95\n",
      "Errors this epoch:90\n",
      "Errors this epoch:90\n",
      "Errors this epoch:92\n",
      "Errors this epoch:92\n",
      "Errors this epoch:92\n",
      "Errors this epoch:94\n",
      "Errors this epoch:94\n",
      "Errors this epoch:92\n",
      "Errors this epoch:89\n",
      "Errors this epoch:101\n",
      "Errors this epoch:105\n",
      "Errors this epoch:98\n",
      "Errors this epoch:88\n",
      "Errors this epoch:87\n",
      "Errors this epoch:99\n",
      "Errors this epoch:87\n",
      "Errors this epoch:92\n",
      "Errors this epoch:92\n",
      "Errors this epoch:98\n",
      "Errors this epoch:98\n",
      "Errors this epoch:93\n",
      "Errors this epoch:105\n",
      "Errors this epoch:90\n",
      "Errors this epoch:92\n",
      "Errors this epoch:94\n",
      "Errors this epoch:98\n",
      "Errors this epoch:91\n",
      "Errors this epoch:92\n",
      "Errors this epoch:94\n",
      "Errors this epoch:98\n",
      "Errors this epoch:91\n",
      "Errors this epoch:92\n",
      "Errors this epoch:95\n",
      "Errors this epoch:94\n",
      "Errors this epoch:89\n",
      "Errors this epoch:95\n",
      "Errors this epoch:92\n",
      "Errors this epoch:90\n",
      "Errors this epoch:93\n",
      "Errors this epoch:90\n",
      "Errors this epoch:92\n",
      "Errors this epoch:94\n",
      "Errors this epoch:91\n",
      "Errors this epoch:90\n",
      "Errors this epoch:92\n",
      "Errors this epoch:92\n",
      "Errors this epoch:94\n",
      "Errors this epoch:91\n",
      "Errors this epoch:94\n",
      "Errors this epoch:93\n",
      "Errors this epoch:94\n",
      "Errors this epoch:97\n",
      "Errors this epoch:95\n",
      "Errors this epoch:98\n",
      "Errors this epoch:88\n",
      "Errors this epoch:92\n",
      "Errors this epoch:94\n",
      "Errors this epoch:90\n",
      "Errors this epoch:92\n",
      "Errors this epoch:89\n",
      "Errors this epoch:100\n",
      "Errors this epoch:91\n",
      "Errors this epoch:94\n",
      "Errors this epoch:102\n",
      "Errors this epoch:96\n",
      "Errors this epoch:86\n",
      "Errors this epoch:92\n",
      "Errors this epoch:92\n",
      "Errors this epoch:94\n",
      "Errors this epoch:97\n",
      "Errors this epoch:89\n",
      "Errors this epoch:92\n",
      "Errors this epoch:97\n",
      "Errors this epoch:97\n",
      "Errors this epoch:95\n",
      "Errors this epoch:94\n",
      "Errors this epoch:89\n",
      "Errors this epoch:97\n",
      "Errors this epoch:99\n",
      "Errors this epoch:100\n",
      "Errors this epoch:94\n",
      "Errors this epoch:94\n",
      "Errors this epoch:92\n",
      "Errors this epoch:90\n",
      "Errors this epoch:92\n",
      "Errors this epoch:92\n",
      "Errors this epoch:94\n",
      "Errors this epoch:91\n",
      "Errors this epoch:94\n",
      "Errors this epoch:93\n",
      "Errors this epoch:94\n",
      "Errors this epoch:93\n",
      "Errors this epoch:98\n",
      "Errors this epoch:91\n",
      "Errors this epoch:92\n",
      "Errors this epoch:94\n",
      "Errors this epoch:90\n",
      "Errors this epoch:92\n",
      "Errors this epoch:92\n",
      "Errors this epoch:94\n",
      "Errors this epoch:98\n",
      "Errors this epoch:97\n",
      "Errors this epoch:94\n",
      "Errors this epoch:98\n",
      "Errors this epoch:97\n",
      "Errors this epoch:98\n",
      "Errors this epoch:98\n",
      "Errors this epoch:93\n",
      "Errors this epoch:91\n",
      "Errors this epoch:98\n",
      "Errors this epoch:90\n",
      "Errors this epoch:90\n",
      "Errors this epoch:90\n",
      "Errors this epoch:103\n",
      "Errors this epoch:91\n",
      "Errors this epoch:102\n",
      "Errors this epoch:99\n",
      "Errors this epoch:100\n",
      "Errors this epoch:92\n",
      "Errors this epoch:92\n",
      "Errors this epoch:89\n",
      "Errors this epoch:100\n",
      "Errors this epoch:100\n",
      "Errors this epoch:97\n",
      "Errors this epoch:87\n",
      "Errors this epoch:90\n",
      "Errors this epoch:92\n",
      "Errors this epoch:92\n",
      "Errors this epoch:92\n",
      "Errors this epoch:94\n",
      "Errors this epoch:97\n",
      "Errors this epoch:89\n",
      "Errors this epoch:92\n",
      "Errors this epoch:92\n",
      "Errors this epoch:97\n",
      "Errors this epoch:94\n",
      "Errors this epoch:102\n",
      "Errors this epoch:104\n",
      "Errors this epoch:95\n",
      "Errors this epoch:100\n",
      "Errors this epoch:97\n",
      "Errors this epoch:86\n",
      "Errors this epoch:92\n",
      "Errors this epoch:92\n",
      "Errors this epoch:94\n",
      "Errors this epoch:94\n",
      "Errors this epoch:92\n",
      "Errors this epoch:92\n",
      "Errors this epoch:94\n",
      "Errors this epoch:98\n",
      "Errors this epoch:97\n",
      "Errors this epoch:100\n",
      "Errors this epoch:93\n",
      "Errors this epoch:94\n",
      "Errors this epoch:103\n",
      "Errors this epoch:92\n",
      "Errors this epoch:92\n",
      "Errors this epoch:93\n",
      "Errors this epoch:97\n",
      "Errors this epoch:99\n",
      "Errors this epoch:91\n",
      "Errors this epoch:92\n",
      "Errors this epoch:96\n",
      "Errors this epoch:98\n",
      "Errors this epoch:86\n",
      "Errors this epoch:92\n",
      "Errors this epoch:92\n",
      "Errors this epoch:94\n",
      "Errors this epoch:97\n",
      "Errors this epoch:89\n",
      "Errors this epoch:90\n",
      "Errors this epoch:112\n",
      "Errors this epoch:104\n",
      "Errors this epoch:98\n",
      "Errors this epoch:88\n",
      "Errors this epoch:94\n",
      "Errors this epoch:92\n",
      "Errors this epoch:102\n",
      "Errors this epoch:92\n",
      "Errors this epoch:95\n",
      "Errors this epoch:90\n",
      "Errors this epoch:92\n",
      "Errors this epoch:92\n",
      "Errors this epoch:94\n",
      "Errors this epoch:98\n",
      "Errors this epoch:91\n",
      "Errors this epoch:92\n",
      "Errors this epoch:94\n",
      "Errors this epoch:98\n",
      "Errors this epoch:91\n",
      "Errors this epoch:92\n",
      "Errors this epoch:94\n",
      "Errors this epoch:94\n",
      "Errors this epoch:92\n",
      "Errors this epoch:92\n",
      "Errors this epoch:94\n",
      "Errors this epoch:99\n",
      "Errors this epoch:91\n",
      "Errors this epoch:102\n",
      "Errors this epoch:97\n",
      "Errors this epoch:100\n",
      "Errors this epoch:92\n",
      "Errors this epoch:97\n",
      "Errors this epoch:95\n",
      "Errors this epoch:90\n",
      "Errors this epoch:90\n",
      "Errors this epoch:92\n",
      "Errors this epoch:92\n",
      "Errors this epoch:94\n",
      "Errors this epoch:88\n",
      "Errors this epoch:99\n",
      "Errors this epoch:91\n",
      "Errors this epoch:94\n",
      "Errors this epoch:104\n",
      "Errors this epoch:96\n",
      "Errors this epoch:94\n",
      "Errors this epoch:92\n",
      "Errors this epoch:93\n",
      "Errors this epoch:93\n",
      "Errors this epoch:99\n",
      "Errors this epoch:91\n",
      "Errors this epoch:97\n",
      "Errors this epoch:89\n",
      "Errors this epoch:90\n",
      "Errors this epoch:112\n",
      "Errors this epoch:104\n",
      "Errors this epoch:95\n",
      "Errors this epoch:100\n",
      "Errors this epoch:97\n",
      "Errors this epoch:87\n",
      "Errors this epoch:92\n",
      "Errors this epoch:92\n",
      "Errors this epoch:94\n",
      "Errors this epoch:98\n",
      "Errors this epoch:99\n",
      "Errors this epoch:91\n",
      "Errors this epoch:98\n",
      "Errors this epoch:99\n",
      "Errors this epoch:91\n",
      "Errors this epoch:98\n",
      "Errors this epoch:97\n",
      "Errors this epoch:100\n",
      "Errors this epoch:94\n",
      "Errors this epoch:94\n",
      "Errors this epoch:92\n",
      "Errors this epoch:90\n",
      "Errors this epoch:92\n",
      "Errors this epoch:92\n",
      "Errors this epoch:94\n",
      "Errors this epoch:91\n",
      "Errors this epoch:94\n",
      "Errors this epoch:91\n",
      "Errors this epoch:94\n",
      "Errors this epoch:92\n",
      "Errors this epoch:92\n",
      "Errors this epoch:94\n",
      "Errors this epoch:99\n",
      "Errors this epoch:91\n",
      "Errors this epoch:102\n",
      "Errors this epoch:99\n",
      "Errors this epoch:100\n",
      "Errors this epoch:92\n",
      "Errors this epoch:92\n",
      "Errors this epoch:89\n",
      "Errors this epoch:100\n",
      "Errors this epoch:97\n",
      "Errors this epoch:100\n",
      "Errors this epoch:92\n",
      "Errors this epoch:93\n",
      "Errors this epoch:97\n",
      "Errors this epoch:101\n",
      "Errors this epoch:99\n",
      "Errors this epoch:98\n",
      "Errors this epoch:89\n",
      "Errors this epoch:97\n",
      "Errors this epoch:89\n",
      "Errors this epoch:92\n",
      "Errors this epoch:92\n",
      "Errors this epoch:97\n",
      "Errors this epoch:94\n",
      "Errors this epoch:102\n",
      "Errors this epoch:104\n",
      "Errors this epoch:95\n",
      "Errors this epoch:100\n",
      "Errors this epoch:97\n",
      "Errors this epoch:86\n",
      "Errors this epoch:92\n",
      "Errors this epoch:92\n",
      "Errors this epoch:94\n",
      "Errors this epoch:94\n",
      "Errors this epoch:92\n",
      "Errors this epoch:92\n",
      "Errors this epoch:94\n",
      "Errors this epoch:98\n",
      "Errors this epoch:97\n",
      "Errors this epoch:100\n",
      "Errors this epoch:92\n",
      "Errors this epoch:97\n",
      "Errors this epoch:94\n",
      "Errors this epoch:89\n",
      "Errors this epoch:92\n",
      "Errors this epoch:92\n",
      "Errors this epoch:94\n",
      "Errors this epoch:93\n",
      "Errors this epoch:94\n",
      "Errors this epoch:90\n",
      "Errors this epoch:90\n",
      "Errors this epoch:102\n",
      "Errors this epoch:88\n",
      "Errors this epoch:94\n",
      "Errors this epoch:91\n",
      "Errors this epoch:94\n",
      "Errors this epoch:91\n",
      "Errors this epoch:94\n",
      "Errors this epoch:92\n",
      "Errors this epoch:92\n",
      "Errors this epoch:94\n",
      "Errors this epoch:98\n",
      "Errors this epoch:99\n",
      "Errors this epoch:85\n",
      "Errors this epoch:93\n",
      "Errors this epoch:102\n",
      "Errors this epoch:95\n",
      "Errors this epoch:92\n",
      "Errors this epoch:89\n",
      "Errors this epoch:90\n",
      "Errors this epoch:91\n",
      "Errors this epoch:100\n",
      "Errors this epoch:93\n",
      "Errors this epoch:92\n",
      "Errors this epoch:93\n",
      "Errors this epoch:101\n",
      "Errors this epoch:98\n",
      "Errors this epoch:98\n",
      "Errors this epoch:87\n",
      "Errors this epoch:97\n",
      "Errors this epoch:89\n",
      "Errors this epoch:90\n",
      "Errors this epoch:95\n",
      "Errors this epoch:97\n",
      "Errors this epoch:97\n",
      "Errors this epoch:89\n",
      "Errors this epoch:103\n",
      "Errors this epoch:93\n",
      "Errors this epoch:93\n",
      "Errors this epoch:93\n",
      "Errors this epoch:99\n",
      "Errors this epoch:99\n",
      "Errors this epoch:100\n",
      "Errors this epoch:91\n",
      "Errors this epoch:84\n",
      "Errors this epoch:98\n",
      "Errors this epoch:92\n",
      "Errors this epoch:91\n",
      "Errors this epoch:97\n",
      "Errors this epoch:94\n",
      "Errors this epoch:94\n",
      "Errors this epoch:103\n",
      "Errors this epoch:99\n",
      "Errors this epoch:90\n",
      "Errors this epoch:99\n",
      "Errors this epoch:89\n",
      "Errors this epoch:97\n",
      "Errors this epoch:94\n",
      "Errors this epoch:98\n",
      "Errors this epoch:91\n",
      "Errors this epoch:88\n",
      "Errors this epoch:105\n",
      "Errors this epoch:87\n",
      "Errors this epoch:99\n",
      "Errors this epoch:99\n",
      "Errors this epoch:91\n",
      "Errors this epoch:85\n",
      "Errors this epoch:90\n",
      "Errors this epoch:94\n",
      "Errors this epoch:89\n",
      "Errors this epoch:90\n",
      "Errors this epoch:92\n",
      "Errors this epoch:98\n",
      "Errors this epoch:100\n",
      "Errors this epoch:92\n",
      "Errors this epoch:102\n",
      "Errors this epoch:92\n",
      "Errors this epoch:90\n",
      "Errors this epoch:92\n",
      "Errors this epoch:92\n",
      "Errors this epoch:92\n",
      "Errors this epoch:94\n",
      "Errors this epoch:95\n",
      "Errors this epoch:95\n",
      "Errors this epoch:95\n",
      "Errors this epoch:94\n",
      "Errors this epoch:89\n",
      "Errors this epoch:93\n",
      "Errors this epoch:102\n",
      "Errors this epoch:95\n",
      "Errors this epoch:92\n",
      "Errors this epoch:91\n",
      "Errors this epoch:94\n",
      "Errors this epoch:97\n",
      "Errors this epoch:96\n",
      "Errors this epoch:98\n",
      "Errors this epoch:88\n",
      "Errors this epoch:87\n",
      "Errors this epoch:99\n",
      "Errors this epoch:87\n",
      "Errors this epoch:92\n",
      "Errors this epoch:92\n",
      "Errors this epoch:98\n",
      "Errors this epoch:93\n",
      "Errors this epoch:92\n",
      "Errors this epoch:93\n",
      "Errors this epoch:94\n",
      "Errors this epoch:103\n",
      "Errors this epoch:97\n",
      "Errors this epoch:97\n",
      "Errors this epoch:97\n",
      "Errors this epoch:89\n",
      "Errors this epoch:105\n",
      "Errors this epoch:96\n",
      "Errors this epoch:93\n",
      "Errors this epoch:97\n",
      "Errors this epoch:101\n",
      "Errors this epoch:89\n",
      "Errors this epoch:99\n",
      "Errors this epoch:91\n",
      "Errors this epoch:92\n",
      "Errors this epoch:92\n",
      "Errors this epoch:94\n",
      "Errors this epoch:89\n",
      "Errors this epoch:97\n",
      "Errors this epoch:90\n",
      "Errors this epoch:91\n",
      "Errors this epoch:102\n",
      "Errors this epoch:88\n",
      "Errors this epoch:98\n",
      "Errors this epoch:98\n",
      "Errors this epoch:92\n",
      "Errors this epoch:90\n",
      "Errors this epoch:92\n",
      "Errors this epoch:92\n",
      "Errors this epoch:92\n",
      "Errors this epoch:94\n",
      "Errors this epoch:91\n",
      "Errors this epoch:94\n",
      "Errors this epoch:97\n",
      "Errors this epoch:94\n",
      "Errors this epoch:89\n",
      "Errors this epoch:95\n",
      "Errors this epoch:89\n",
      "Errors this epoch:94\n",
      "Errors this epoch:101\n",
      "Errors this epoch:91\n",
      "Errors this epoch:98\n",
      "Errors this epoch:93\n",
      "Errors this epoch:93\n",
      "Errors this epoch:91\n",
      "Errors this epoch:92\n",
      "Errors this epoch:89\n",
      "Errors this epoch:96\n",
      "Errors this epoch:95\n",
      "Errors this epoch:95\n",
      "Errors this epoch:92\n",
      "Errors this epoch:92\n",
      "Errors this epoch:91\n",
      "Errors this epoch:88\n",
      "Errors this epoch:94\n",
      "Errors this epoch:94\n",
      "Errors this epoch:98\n",
      "Errors this epoch:96\n",
      "Errors this epoch:94\n",
      "Errors this epoch:102\n",
      "Errors this epoch:94\n",
      "Errors this epoch:84\n",
      "Errors this epoch:98\n",
      "Errors this epoch:96\n",
      "Errors this epoch:94\n",
      "Errors this epoch:97\n",
      "Errors this epoch:92\n",
      "Errors this epoch:93\n",
      "Errors this epoch:93\n",
      "Errors this epoch:97\n",
      "Errors this epoch:91\n",
      "Errors this epoch:92\n",
      "Errors this epoch:92\n",
      "Errors this epoch:91\n",
      "Errors this epoch:99\n",
      "Errors this epoch:93\n",
      "Errors this epoch:88\n",
      "Errors this epoch:87\n",
      "Errors this epoch:94\n",
      "Errors this epoch:94\n",
      "Errors this epoch:91\n",
      "Errors this epoch:101\n",
      "Errors this epoch:104\n",
      "Errors this epoch:93\n",
      "Errors this epoch:101\n",
      "Errors this epoch:91\n",
      "Errors this epoch:92\n",
      "Errors this epoch:92\n",
      "Errors this epoch:92\n",
      "Errors this epoch:94\n",
      "Errors this epoch:89\n",
      "Errors this epoch:97\n",
      "Errors this epoch:90\n",
      "Errors this epoch:91\n",
      "Errors this epoch:102\n",
      "Errors this epoch:88\n",
      "Errors this epoch:94\n",
      "Errors this epoch:98\n",
      "Errors this epoch:92\n",
      "Errors this epoch:100\n",
      "Errors this epoch:94\n",
      "Errors this epoch:94\n",
      "Errors this epoch:92\n",
      "Errors this epoch:90\n",
      "Errors this epoch:92\n",
      "Errors this epoch:92\n",
      "Errors this epoch:94\n",
      "Errors this epoch:91\n",
      "Errors this epoch:94\n",
      "Errors this epoch:93\n",
      "Errors this epoch:94\n",
      "Errors this epoch:93\n",
      "Errors this epoch:92\n",
      "Errors this epoch:90\n",
      "Errors this epoch:92\n",
      "Errors this epoch:92\n",
      "Errors this epoch:94\n",
      "Errors this epoch:91\n",
      "Errors this epoch:94\n",
      "Errors this epoch:93\n",
      "Errors this epoch:94\n",
      "Errors this epoch:97\n",
      "Errors this epoch:95\n",
      "Errors this epoch:98\n",
      "Errors this epoch:89\n",
      "Errors this epoch:92\n",
      "Errors this epoch:92\n",
      "Errors this epoch:94\n",
      "Errors this epoch:98\n",
      "Errors this epoch:99\n",
      "Errors this epoch:85\n",
      "Errors this epoch:90\n",
      "Errors this epoch:94\n",
      "Errors this epoch:91\n",
      "Errors this epoch:95\n",
      "Errors this epoch:94\n",
      "Errors this epoch:89\n",
      "Errors this epoch:93\n",
      "Errors this epoch:102\n",
      "Errors this epoch:95\n",
      "Errors this epoch:92\n",
      "Errors this epoch:89\n",
      "Errors this epoch:90\n",
      "Errors this epoch:91\n",
      "Errors this epoch:93\n",
      "Errors this epoch:92\n",
      "Errors this epoch:94\n",
      "Errors this epoch:93\n",
      "Errors this epoch:98\n",
      "Errors this epoch:102\n",
      "Errors this epoch:104\n",
      "Errors this epoch:98\n",
      "Errors this epoch:88\n",
      "Errors this epoch:94\n",
      "Errors this epoch:92\n",
      "Errors this epoch:102\n",
      "Errors this epoch:92\n",
      "Errors this epoch:95\n",
      "Errors this epoch:90\n",
      "Errors this epoch:92\n",
      "Errors this epoch:92\n",
      "Errors this epoch:94\n",
      "Errors this epoch:98\n",
      "Errors this epoch:91\n",
      "Errors this epoch:92\n",
      "Errors this epoch:94\n",
      "Errors this epoch:98\n",
      "Errors this epoch:91\n",
      "Errors this epoch:92\n",
      "Errors this epoch:94\n",
      "Errors this epoch:94\n",
      "Errors this epoch:92\n",
      "Errors this epoch:92\n",
      "Errors this epoch:94\n",
      "Errors this epoch:99\n",
      "Errors this epoch:91\n",
      "Errors this epoch:102\n",
      "Errors this epoch:99\n",
      "Errors this epoch:100\n",
      "Errors this epoch:100\n",
      "Errors this epoch:97\n",
      "Errors this epoch:96\n",
      "Errors this epoch:92\n",
      "Errors this epoch:92\n",
      "Errors this epoch:92\n",
      "Errors this epoch:94\n",
      "Errors this epoch:98\n",
      "Errors this epoch:99\n",
      "Errors this epoch:94\n",
      "Errors this epoch:93\n",
      "Errors this epoch:94\n",
      "Errors this epoch:95\n",
      "Errors this epoch:94\n",
      "Errors this epoch:94\n",
      "Errors this epoch:96\n",
      "Errors this epoch:94\n",
      "Errors this epoch:101\n",
      "Errors this epoch:91\n",
      "Errors this epoch:92\n",
      "Errors this epoch:93\n",
      "Errors this epoch:93\n",
      "Errors this epoch:91\n",
      "Errors this epoch:102\n",
      "Errors this epoch:99\n",
      "Errors this epoch:103\n",
      "Errors this epoch:91\n",
      "Errors this epoch:95\n",
      "Errors this epoch:98\n",
      "Errors this epoch:95\n",
      "Errors this epoch:103\n",
      "Errors this epoch:91\n",
      "Errors this epoch:98\n",
      "Errors this epoch:93\n",
      "Errors this epoch:93\n",
      "Errors this epoch:91\n",
      "Errors this epoch:92\n",
      "Errors this epoch:93\n",
      "Errors this epoch:94\n",
      "Errors this epoch:93\n",
      "Errors this epoch:98\n",
      "Errors this epoch:101\n",
      "Errors this epoch:96\n",
      "Errors this epoch:93\n",
      "Errors this epoch:97\n",
      "Errors this epoch:101\n",
      "Errors this epoch:97\n",
      "Errors this epoch:93\n",
      "Errors this epoch:91\n",
      "Errors this epoch:90\n",
      "Errors this epoch:87\n",
      "Errors this epoch:94\n",
      "Errors this epoch:93\n",
      "Errors this epoch:98\n",
      "Errors this epoch:102\n",
      "Errors this epoch:96\n",
      "Errors this epoch:94\n",
      "Errors this epoch:89\n",
      "Errors this epoch:99\n",
      "Errors this epoch:93\n",
      "Errors this epoch:99\n",
      "Errors this epoch:98\n",
      "Errors this epoch:87\n",
      "Errors this epoch:90\n",
      "Errors this epoch:92\n",
      "Errors this epoch:96\n",
      "Errors this epoch:89\n",
      "Errors this epoch:99\n",
      "Errors this epoch:91\n",
      "Errors this epoch:97\n",
      "Errors this epoch:89\n",
      "Errors this epoch:92\n",
      "Errors this epoch:95\n",
      "Errors this epoch:89\n",
      "Errors this epoch:97\n",
      "Errors this epoch:89\n",
      "Errors this epoch:92\n",
      "Errors this epoch:92\n",
      "Errors this epoch:97\n",
      "Errors this epoch:94\n",
      "Errors this epoch:99\n",
      "Errors this epoch:97\n",
      "Errors this epoch:95\n",
      "Errors this epoch:89\n",
      "Errors this epoch:90\n",
      "Errors this epoch:92\n",
      "Errors this epoch:92\n",
      "Errors this epoch:90\n",
      "Errors this epoch:92\n",
      "Errors this epoch:92\n",
      "Errors this epoch:94\n",
      "Errors this epoch:91\n"
     ]
    },
    {
     "data": {
      "image/png": "[encoded data removed]",
      "text/plain": [
       "<Figure size 640x480 with 1 Axes>"
      ]
     },
     "metadata": {},
     "output_type": "display_data"
    },
    {
     "name": "stdout",
     "output_type": "stream",
     "text": [
      "[ 0.013      -0.00272065 -0.00937305]\n"
     ]
    }
   ],
   "source": [
    "for i in range(0,1000):\n",
    "    p.fit_one_epoch(X_train, y_train)\n",
    "\n",
    "x = np.linspace(0, 25, 10)\n",
    "a = p.W[1]\n",
    "b = p.W[2]\n",
    "c = p.W[0]\n",
    "y = (-a / b) * x - (c / b) # ax + by + c = 0\n",
    "plt.plot(x, y, label=f'{a}x + {b}y + {c} = 0')\n",
    "plt.scatter(aX1, aX2, c='b', label='a', marker='o')\n",
    "plt.scatter(bX1, bX2, c='r', label='b', marker='x')\n",
    "plt.xlabel('X-axis')\n",
    "plt.ylabel('Y-axis')\n",
    "plt.legend()\n",
    "plt.grid(True)\n",
    "plt.show()\n",
    "\n",
    "print(p.W)"
   ]
  },
  {
   "cell_type": "code",
   "execution_count": null,
   "metadata": {},
   "outputs": [],
   "source": []
  }
 ],
 "metadata": {
  "kernelspec": {
   "display_name": "AnndaKTH",
   "language": "python",
   "name": "python3"
  },
  "language_info": {
   "codemirror_mode": {
    "name": "ipython",
    "version": 3
   },
   "file_extension": ".py",
   "mimetype": "text/x-python",
   "name": "python",
   "nbconvert_exporter": "python",
   "pygments_lexer": "ipython3",
   "version": "3.11.4"
  },
  "orig_nbformat": 4
 },
 "nbformat": 4,
 "nbformat_minor": 2
}
