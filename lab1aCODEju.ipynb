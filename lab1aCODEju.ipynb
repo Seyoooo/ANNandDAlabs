{
 "cells": [
  {
   "cell_type": "markdown",
   "metadata": {},
   "source": [
    "# 3.1 Classification with a single-layer perceptron"
   ]
  },
  {
   "cell_type": "code",
   "execution_count": 1,
   "metadata": {},
   "outputs": [],
   "source": [
    "import numpy as np"
   ]
  },
  {
   "cell_type": "markdown",
   "metadata": {},
   "source": [
    "### 3.1.1 Generation of linearly-separable data"
   ]
  },
  {
   "cell_type": "code",
   "execution_count": 2,
   "metadata": {},
   "outputs": [],
   "source": [
    "n = 100\n",
    "\n",
    "mA = [10, 10]\n",
    "sigma = 1\n",
    "\n",
    "aX = np.random.normal(mA[0], sigma, n)\n",
    "aY = np.random.normal(mA[1], sigma, n)"
   ]
  },
  {
   "cell_type": "code",
   "execution_count": 3,
   "metadata": {},
   "outputs": [],
   "source": [
    "a = np.stack((aX, aY, np.ones(n), np.zeros(n)), axis=1)"
   ]
  },
  {
   "cell_type": "code",
   "execution_count": 4,
   "metadata": {},
   "outputs": [],
   "source": [
    "mB = [5, 5]\n",
    "sigma = 1\n",
    "\n",
    "bX = np.random.normal(mB[0], sigma, n)\n",
    "bY = np.random.normal(mB[1], sigma, n)"
   ]
  },
  {
   "cell_type": "code",
   "execution_count": 5,
   "metadata": {},
   "outputs": [
    {
     "data": {
      "text/plain": [
       "(100, 4)"
      ]
     },
     "execution_count": 5,
     "metadata": {},
     "output_type": "execute_result"
    }
   ],
   "source": [
    "b = np.stack((bX, bY, np.ones(n), np.ones(n)), axis=1)\n",
    "b.shape"
   ]
  },
  {
   "cell_type": "code",
   "execution_count": 7,
   "metadata": {},
   "outputs": [],
   "source": [
    "dataset = np.concatenate((a, b), axis=0)\n",
    "dataset.shape()"
   ]
  },
  {
   "cell_type": "code",
   "execution_count": 8,
   "metadata": {},
   "outputs": [],
   "source": [
    "np.random.shuffle(dataset)"
   ]
  },
  {
   "cell_type": "code",
   "execution_count": 9,
   "metadata": {},
   "outputs": [
    {
     "data": {
      "text/plain": [
       "<matplotlib.collections.PathCollection at 0x7fb9d11bd610>"
      ]
     },
     "execution_count": 9,
     "metadata": {},
     "output_type": "execute_result"
    },
    {
     "data": {
      "image/png": "[encoded data removed]",
      "text/plain": [
       "<Figure size 640x480 with 1 Axes>"
      ]
     },
     "metadata": {},
     "output_type": "display_data"
    }
   ],
   "source": [
    "import matplotlib.pyplot as plt\n",
    "plt.scatter(a[:, 0], a[:, 1], c='b', label='a', marker='o')\n",
    "plt.scatter(b[:, 0], b[:, 1], c='r', label='b', marker='x')"
   ]
  },
  {
   "cell_type": "markdown",
   "metadata": {},
   "source": [
    "### 3.1.2 Classification with a single-layer perceptron and analysis"
   ]
  },
  {
   "cell_type": "code",
   "execution_count": 10,
   "metadata": {},
   "outputs": [],
   "source": [
    "# Functions for Perceptron learning and delta learning rule\n",
    "# learning rate and epochs are global variables\n",
    "\n",
    "# Variable dim is used to remove bias...\n",
    "def perceptron_learning(dataset, weights, batch_size, epochs, learning_rate, dim):\n",
    "    nb_goods = [0] * epochs\n",
    "    for i in range(epochs):\n",
    "        idx = 0\n",
    "        dataset_size = len(dataset)\n",
    "        while idx < dataset_size:\n",
    "            next_idx = idx + batch_size\n",
    "            if next_idx <= dataset_size:\n",
    "                y = np.matmul(weights, dataset[idx:next_idx,:dim].transpose()) > 0\n",
    "                weights = weights - learning_rate * np.matmul((y - dataset[idx:next_idx,dim]), dataset[idx:next_idx,:dim])\n",
    "            # last batch\n",
    "            else:\n",
    "                y = np.matmul(weights, dataset[idx:,:dim].transpose()) > 0\n",
    "                weights = weights - learning_rate * np.matmul((y - dataset[idx:,dim]), dataset[idx:,:dim])\n",
    "            idx = next_idx\n",
    "        nb_goods[i] = sum((np.matmul(weights, dataset[:,:dim].transpose()) > 0) == dataset[:,dim]) / dataset_size\n",
    "    return weights, nb_goods\n",
    "\n",
    "# Variable dim is used to remove bias...\n",
    "def delta_learning(dataset, weights, batch_size, epochs, learning_rate, dim):\n",
    "    nb_goods = [0] * epochs\n",
    "    for i in range(epochs):\n",
    "        idx = 0\n",
    "        dataset_size = len(dataset)\n",
    "        while idx < dataset_size:\n",
    "            next_idx = idx + batch_size\n",
    "            if next_idx <= dataset_size:\n",
    "                y = np.matmul(weights, dataset[idx:next_idx,:dim].transpose())\n",
    "                weights = weights - learning_rate * np.matmul((y - dataset[idx:next_idx,dim]), dataset[idx:next_idx,:dim])\n",
    "            # last batch\n",
    "            else:\n",
    "                y = np.matmul(weights, dataset[idx:,:dim].transpose())\n",
    "                weights = weights - learning_rate * np.matmul((y - dataset[idx:,dim]), dataset[idx:,:dim])\n",
    "            idx = next_idx\n",
    "        nb_goods[i] = sum((2*((np.matmul(weights, dataset[:,:dim].transpose()) > 0) - 0.5)) == dataset[:,dim]) / dataset_size\n",
    "    return weights, nb_goods\n"
   ]
  },
  {
   "cell_type": "code",
   "execution_count": 21,
   "metadata": {},
   "outputs": [
    {
     "name": "stdout",
     "output_type": "stream",
     "text": [
      "(3,)\n"
     ]
    },
    {
     "data": {
      "text/plain": [
       "numpy.float64"
      ]
     },
     "execution_count": 21,
     "metadata": {},
     "output_type": "execute_result"
    }
   ],
   "source": [
    "weights_pl = np.random.rand(3)\n",
    "print((weights_pl.shape))\n",
    "type((np.sum(3 * weights_pl@dataset[:,:3].T)))"
   ]
  },
  {
   "cell_type": "code",
   "execution_count": null,
   "metadata": {},
   "outputs": [],
   "source": [
    "# Question 1 : Apply and compare perceptron learning with the delta learning rule in\n",
    "# online (sequential) mode on the generated dataset. Adjust the learning\n",
    "# rate and study the convergence of the two algorithms.\n",
    "\n",
    "learning_rate = 0.0001\n",
    "epochs = 1000\n",
    "batch_size = 1\n",
    "\n",
    "for _ in range(3):\n",
    "    weights_pl = np.random.rand(3)\n",
    "    weights_dlr = np.copy(weights_pl)\n",
    "    xmin = min(dataset[:,0])\n",
    "    xmax = max(dataset[:,0])\n",
    "    x = np.linspace(xmin, xmax, 20)\n",
    "    x_curve = list(range(epochs))\n",
    "    \n",
    "    ### Plot of dataset\n",
    "    plt.scatter(a[:, 0], a[:, 1], c='b', marker='o', label='_nolegend_')\n",
    "    plt.scatter(b[:, 0], b[:, 1], c='r', marker='x', label='_nolegend_')\n",
    "\n",
    "    ### Perceptron learning\n",
    "    weights_pl, y_curve_perceptron = perceptron_learning(dataset, weights_pl, batch_size, epochs, learning_rate, dim=3)\n",
    "    y = (-weights_pl[2] - weights_pl[0] * x) / weights_pl[1]\n",
    "\n",
    "    plt.plot()\n",
    "    plt.plot(x, y, c='grey', linestyle='--', label='perceptron')\n",
    "\n",
    "    ### Delta learning rule\n",
    "\n",
    "    # ground truth in {-1, 1}\n",
    "    dataset_symetric = np.copy(dataset)\n",
    "    dataset_symetric[:,3] = 2 * (dataset_symetric[:,3] - 0.5)\n",
    "\n",
    "    weights_dlr, y_curve_delta = delta_learning(dataset_symetric, weights_dlr, batch_size, epochs, learning_rate, dim=3)\n",
    "    y = (-weights_dlr[2] - weights_dlr[0] * x) / weights_dlr[1]\n",
    "\n",
    "    plt.plot(x, y, c='black', linestyle='--', label='delt')\n",
    "\n",
    "    plt.legend(['Perceptron learning rule', 'Delta learning rule'])\n",
    "    plt.show()\n",
    "\n",
    "    ### Plot learning curves\n",
    "    plt.plot(x_curve, y_curve_perceptron, c='grey', label='perceptron')\n",
    "    plt.plot(x_curve, y_curve_delta, c='black', label='delta')\n",
    "    plt.xlabel('epochs')\n",
    "    plt.ylabel('accuracy')\n",
    "    plt.legend(['perceptron learning rule', 'delta learning rule'])\n",
    "    plt.show()\n",
    "    \n",
    "    if y_curve_perceptron[-1] < 1:\n",
    "        print(f'Perceptron proportion of good classification  : {y_curve_perceptron[-1]}')\n",
    "    if y_curve_delta[-1] < 1:\n",
    "        print(f'Delta proportion of good classification :  {y_curve_delta[-1]}')\n"
   ]
  },
  {
   "cell_type": "code",
   "execution_count": 12,
   "metadata": {},
   "outputs": [
    {
     "data": {
      "text/plain": [
       "array([[10.77885137, 10.05270171,  0.95687405,  0.        ],\n",
       "       [ 9.5274116 , 11.54582429,  0.81819036,  0.        ],\n",
       "       [10.76872225, 10.01920112,  1.07351347,  0.        ],\n",
       "       [11.27278686, 10.87868167,  0.97666909,  0.        ],\n",
       "       [ 9.85076438,  8.693042  ,  0.92537555,  0.        ],\n",
       "       [ 9.63280894,  8.89214154,  0.91410936,  0.        ],\n",
       "       [11.15246971,  9.58803679,  1.06859799,  0.        ],\n",
       "       [ 9.87435137, 10.20228466,  0.78560993,  0.        ],\n",
       "       [ 9.97207148,  8.58096325,  0.92851213,  0.        ],\n",
       "       [ 8.65742236,  7.79946926,  1.09578475,  0.        ],\n",
       "       [10.27572361, 11.40936166,  1.08173805,  0.        ],\n",
       "       [ 9.17745548,  8.40666967,  1.10121369,  0.        ],\n",
       "       [ 9.76208442, 10.19778027,  0.92140428,  0.        ],\n",
       "       [ 9.58608614, 10.26094873,  0.90594635,  0.        ],\n",
       "       [ 9.14660037, 10.76190977,  0.98350631,  0.        ],\n",
       "       [ 9.29999427,  9.78411368,  0.9794802 ,  0.        ],\n",
       "       [ 9.54886838,  8.96817784,  0.97756997,  0.        ],\n",
       "       [ 8.48105945,  7.97094978,  1.04048744,  0.        ],\n",
       "       [10.51797688,  8.32310054,  0.9942494 ,  0.        ],\n",
       "       [10.83278483,  9.63216302,  1.02883176,  0.        ],\n",
       "       [10.38308319, 10.3125243 ,  0.86721766,  0.        ],\n",
       "       [11.13548739, 10.44149546,  0.84943124,  0.        ],\n",
       "       [10.40698792,  9.86468374,  0.98144592,  0.        ],\n",
       "       [10.08396041,  8.97457119,  0.87593703,  0.        ],\n",
       "       [ 9.40543932, 10.5257287 ,  0.98520943,  0.        ],\n",
       "       [ 9.62411881, 10.83733768,  0.94932853,  0.        ],\n",
       "       [10.22826219,  9.59406187,  0.93633164,  0.        ],\n",
       "       [ 8.89774465, 11.55272201,  1.00487449,  0.        ],\n",
       "       [10.47175575,  8.04525168,  0.91481954,  0.        ],\n",
       "       [ 8.92628842, 10.67397426,  1.09747893,  0.        ],\n",
       "       [ 9.19966814, 10.26813309,  1.05596556,  0.        ],\n",
       "       [ 9.96902984, 11.41630321,  1.09212896,  0.        ],\n",
       "       [ 9.25316041,  9.92556007,  1.11177489,  0.        ],\n",
       "       [10.43194218,  7.79962162,  0.92764151,  0.        ],\n",
       "       [ 9.68217285,  9.67197715,  0.93314088,  0.        ],\n",
       "       [11.58363646, 11.69943969,  0.9448447 ,  0.        ],\n",
       "       [ 9.65114695, 12.03255852,  0.98003329,  0.        ],\n",
       "       [ 9.89713581,  9.05243764,  0.86496144,  0.        ],\n",
       "       [ 7.89440599,  9.68154952,  1.07245408,  0.        ],\n",
       "       [10.28868325,  8.32072544,  0.8868122 ,  0.        ],\n",
       "       [ 8.05857369,  9.39871271,  1.01307829,  0.        ],\n",
       "       [ 8.79672108, 10.29044596,  1.09622701,  0.        ],\n",
       "       [ 9.37010124, 10.71471714,  1.02060571,  0.        ],\n",
       "       [10.37703817, 11.18061078,  0.94405667,  0.        ],\n",
       "       [ 9.54135794,  8.94934936,  0.9618529 ,  0.        ],\n",
       "       [ 9.23320825, 10.27850619,  1.05244789,  0.        ],\n",
       "       [ 8.38459807,  9.3416004 ,  0.85386477,  0.        ],\n",
       "       [10.59209146,  9.77195145,  0.95463719,  0.        ],\n",
       "       [10.58600417, 10.56711539,  1.10526494,  0.        ],\n",
       "       [ 9.03948607,  9.27281535,  0.91341228,  0.        ],\n",
       "       [ 9.54644327, 10.51911522,  0.98485727,  0.        ],\n",
       "       [ 8.58060541,  8.45259391,  1.09141505,  0.        ],\n",
       "       [11.34169132, 10.69573536,  0.99400029,  0.        ],\n",
       "       [ 9.42186191,  9.77811869,  0.9154199 ,  0.        ],\n",
       "       [ 7.19844355, 10.04023385,  0.92085069,  0.        ],\n",
       "       [10.66509515,  9.11830543,  1.12472982,  0.        ],\n",
       "       [10.39406771,  9.86442049,  0.92659369,  0.        ],\n",
       "       [ 8.55612395,  7.55887836,  1.04920674,  0.        ],\n",
       "       [ 8.05502932, 10.30189383,  1.01294584,  0.        ],\n",
       "       [ 8.85725793, 11.79239241,  1.00826696,  0.        ],\n",
       "       [ 8.71982975, 10.21580147,  0.95933724,  0.        ],\n",
       "       [11.76041658, 10.17075987,  1.0061147 ,  0.        ],\n",
       "       [10.0913603 ,  9.12991147,  0.98883955,  0.        ],\n",
       "       [10.11041055, 10.53809184,  1.10767451,  0.        ],\n",
       "       [10.09540977, 10.34336724,  0.7799404 ,  0.        ],\n",
       "       [ 8.7082566 ,  8.99087413,  1.01493779,  0.        ],\n",
       "       [ 9.92683676,  9.73684898,  1.05049236,  0.        ],\n",
       "       [ 7.41354488, 10.92357042,  0.93013523,  0.        ],\n",
       "       [10.3767714 , 10.15649609,  1.00624619,  0.        ],\n",
       "       [10.34627036, 12.05747531,  0.98221725,  0.        ],\n",
       "       [10.1975258 ,  9.21944055,  0.90888149,  0.        ],\n",
       "       [ 7.16857779, 12.1416199 ,  1.02692667,  0.        ],\n",
       "       [10.18547562, 10.31051953,  0.97707148,  0.        ],\n",
       "       [10.50001108,  8.08075868,  0.97172055,  0.        ],\n",
       "       [ 8.71877044,  7.9852988 ,  1.08719329,  0.        ],\n",
       "       [10.50543805,  9.14603486,  1.00334895,  0.        ],\n",
       "       [ 8.63162137, 10.23652853,  1.01483197,  0.        ],\n",
       "       [10.91755572, 10.66084018,  1.02315914,  0.        ],\n",
       "       [ 9.94179862,  9.26727759,  0.8682239 ,  0.        ],\n",
       "       [11.31649609, 11.71953703,  0.89464727,  0.        ],\n",
       "       [ 9.19752109, 10.38487973,  1.0958751 ,  0.        ],\n",
       "       [ 7.46158232,  9.98985619,  1.12554964,  0.        ],\n",
       "       [ 8.67396459, 10.38555721,  1.01904952,  0.        ],\n",
       "       [ 9.19911869,  9.49750063,  0.99673252,  0.        ],\n",
       "       [10.5944581 , 10.55815355,  0.89428223,  0.        ],\n",
       "       [ 8.51108136,  9.74043588,  0.95536218,  0.        ],\n",
       "       [12.48567819,  9.0366847 ,  1.17580747,  0.        ],\n",
       "       [ 9.50146757,  8.48707296,  0.88331845,  0.        ],\n",
       "       [ 9.0893409 , 10.79657407,  1.06290352,  0.        ],\n",
       "       [10.24276365,  9.15487817,  0.93055311,  0.        ],\n",
       "       [10.90278036,  9.1809993 ,  1.02419396,  0.        ],\n",
       "       [ 8.37145548,  8.32200033,  0.9466014 ,  0.        ],\n",
       "       [10.17600445,  9.62562458,  0.93103698,  0.        ],\n",
       "       [10.39413633,  8.95359553,  1.10812829,  0.        ],\n",
       "       [ 9.47001592,  9.01850015,  0.82849317,  0.        ],\n",
       "       [10.81062458, 10.43631976,  0.92393361,  0.        ],\n",
       "       [10.34517724, 10.44721089,  1.10952695,  0.        ],\n",
       "       [ 8.24655178, 10.79479152,  1.04032391,  0.        ],\n",
       "       [ 9.34852096,  9.54569152,  0.77238465,  0.        ],\n",
       "       [ 8.94121085, 10.81547211,  1.08816413,  0.        ]])"
      ]
     },
     "execution_count": 12,
     "metadata": {},
     "output_type": "execute_result"
    }
   ],
   "source": [
    "test = np.copy(a)\n",
    "test[:, 2] += np.random.normal(0, .1, (100))\n",
    "test"
   ]
  },
  {
   "cell_type": "code",
   "execution_count": null,
   "metadata": {},
   "outputs": [],
   "source": [
    "# Test with different batch size for deltat rule\n",
    "\n",
    "learning_rate = 0.001\n",
    "epochs = 50\n",
    "\n",
    "for _ in range(3):\n",
    "    weights_pl = np.random.rand(3)\n",
    "    weights_dlr = np.copy(weights_pl)\n",
    "    xmin = min(dataset[:,0])\n",
    "    xmax = max(dataset[:,0])\n",
    "    x = np.linspace(xmin, xmax, 20)\n",
    "    x_curve = list(range(epochs))\n",
    "\n",
    "    ### Delta learning rule\n",
    "\n",
    "    # ground truth in {-1, 1}\n",
    "    dataset_symetric = np.copy(dataset)\n",
    "    dataset_symetric[:,3] = 2 * (dataset_symetric[:,3] - 0.5)\n",
    "\n",
    "    legend = []\n",
    "    for batch_size, color in [(1, 'black'), (3, 'grey'), (5, 'green'), (10, 'blue')]:\n",
    "        _, y_curve_delta = delta_learning(dataset_symetric, weights_dlr, batch_size, epochs, learning_rate, dim=3)\n",
    "        plt.plot(x_curve, y_curve_delta, c=color)\n",
    "        legend.append(f'batch size : {batch_size}')\n",
    "\n",
    "    # plt.plot(x_curve, [1]*len(x_curve), color='pink')\n",
    "\n",
    "    plt.legend(legend)\n",
    "    plt.xlabel('epochs')\n",
    "    plt.ylabel('accuracy')\n",
    "    plt.show()"
   ]
  },
  {
   "cell_type": "code",
   "execution_count": null,
   "metadata": {},
   "outputs": [],
   "source": [
    "# Removing the bias\n",
    "\n",
    "learning_rate = 0.001\n",
    "epochs = 10\n",
    "batch_size = 1\n",
    "\n",
    "dataset_no_bias = np.delete(np.copy(dataset), 2, 1)\n",
    "dataset_symetric_no_bias = np.delete(np.copy(dataset_symetric), 2, 1)\n",
    "\n",
    "for _ in range(3):\n",
    "    weights_pl = np.random.rand(2)\n",
    "    weights_dlr = np.copy(weights_pl)\n",
    "    xmin = min(dataset[:,0])\n",
    "    xmax = max(dataset[:,0])\n",
    "    x = np.linspace(xmin, xmax, 20)\n",
    "    x_curve = list(range(epochs))\n",
    "    \n",
    "    ### Plot of dataset\n",
    "    plt.scatter(a[:, 0], a[:, 1], c='b', label='a', marker='o')\n",
    "    plt.scatter(b[:, 0], b[:, 1], c='r', label='b', marker='x')\n",
    "\n",
    "    ### Perceptron learning\n",
    "    weights_pl, y_curve_perceptron = perceptron_learning(dataset_no_bias, weights_pl, batch_size, epochs, learning_rate, dim=2)\n",
    "    y = ( - weights_pl[0] * x) / weights_pl[1]\n",
    "\n",
    "    plt.plot()\n",
    "    plt.plot(x, y, c='grey', linestyle='--')\n",
    "\n",
    "    ### Delta learning rule\n",
    "\n",
    "    weights_dlr, y_curve_delta = delta_learning(dataset_symetric_no_bias, weights_dlr, batch_size, epochs, learning_rate, dim=2)\n",
    "    y = ( - weights_dlr[0] * x) / weights_dlr[1]\n",
    "\n",
    "    plt.plot(x, y, c='black', linestyle='--')\n",
    "    plt.show()\n",
    "\n",
    "    ### Plot learning curves\n",
    "    plt.plot(x_curve, y_curve_perceptron, c='grey')\n",
    "    plt.plot(x_curve, y_curve_delta, c='black')\n",
    "    plt.show()\n",
    "    \n",
    "    if y_curve_perceptron[-1] < 1:\n",
    "        print(f'Perceptron proportion of good classification  : {y_curve_perceptron[-1]}')\n",
    "    if y_curve_delta[-1] < 1:\n",
    "        print(f'Delta proportion of good classification :  {y_curve_delta[-1]}')\n",
    "    \n",
    "    print(weights_dlr)\n"
   ]
  },
  {
   "cell_type": "markdown",
   "metadata": {},
   "source": []
  }
 ],
 "metadata": {
  "kernelspec": {
   "display_name": "Python 3.8.3 ('venv': venv)",
   "language": "python",
   "name": "python3"
  },
  "language_info": {
   "codemirror_mode": {
    "name": "ipython",
    "version": 3
   },
   "file_extension": ".py",
   "mimetype": "text/x-python",
   "name": "python",
   "nbconvert_exporter": "python",
   "pygments_lexer": "ipython3",
   "version": "3.8.3"
  },
  "orig_nbformat": 4,
  "vscode": {
   "interpreter": {
    "hash": "ed010600908602893e54c2254557a102f13966df447e3060692476b3d496eb5f"
   }
  }
 },
 "nbformat": 4,
 "nbformat_minor": 2
}
